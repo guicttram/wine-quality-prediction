{
  "nbformat": 4,
  "nbformat_minor": 0,
  "metadata": {
    "colab": {
      "provenance": [],
      "mount_file_id": "11szBmOsof36mOJf7YwiL7OkJvRiI0Lxf",
      "authorship_tag": "ABX9TyNKT1n4jgBzgWhycfekCUPe"
    },
    "kernelspec": {
      "name": "python3",
      "display_name": "Python 3"
    },
    "language_info": {
      "name": "python"
    }
  },
  "cells": [
    {
      "cell_type": "markdown",
      "source": [
        "# Investigação de Métodos de Aprendizado de Máquina para Predição de Qualidade de Vinhos"
      ],
      "metadata": {
        "id": "jvW-t0F7ZYkI"
      }
    },
    {
      "cell_type": "markdown",
      "source": [
        "## 0. Load data"
      ],
      "metadata": {
        "id": "YGI-Qn0_ZlNO"
      }
    },
    {
      "cell_type": "code",
      "execution_count": 1,
      "metadata": {
        "id": "_vhT61005Ad3"
      },
      "outputs": [],
      "source": [
        "import pandas as pd"
      ]
    },
    {
      "cell_type": "code",
      "source": [
        "df_red = pd.read_csv('/content/drive/MyDrive/TCC/winequality-red.csv', sep=\";\")\n",
        "df_red"
      ],
      "metadata": {
        "colab": {
          "base_uri": "https://localhost:8080/",
          "height": 424
        },
        "id": "N08yNTqh5dg8",
        "outputId": "a0a55c73-0a41-47e5-b484-8d3f5e5c0b23"
      },
      "execution_count": 2,
      "outputs": [
        {
          "output_type": "execute_result",
          "data": {
            "text/plain": [
              "      fixed acidity  volatile acidity  citric acid  residual sugar  chlorides  \\\n",
              "0               7.4             0.700         0.00             1.9      0.076   \n",
              "1               7.8             0.880         0.00             2.6      0.098   \n",
              "2               7.8             0.760         0.04             2.3      0.092   \n",
              "3              11.2             0.280         0.56             1.9      0.075   \n",
              "4               7.4             0.700         0.00             1.9      0.076   \n",
              "...             ...               ...          ...             ...        ...   \n",
              "1594            6.2             0.600         0.08             2.0      0.090   \n",
              "1595            5.9             0.550         0.10             2.2      0.062   \n",
              "1596            6.3             0.510         0.13             2.3      0.076   \n",
              "1597            5.9             0.645         0.12             2.0      0.075   \n",
              "1598            6.0             0.310         0.47             3.6      0.067   \n",
              "\n",
              "      free sulfur dioxide  total sulfur dioxide  density    pH  sulphates  \\\n",
              "0                    11.0                  34.0  0.99780  3.51       0.56   \n",
              "1                    25.0                  67.0  0.99680  3.20       0.68   \n",
              "2                    15.0                  54.0  0.99700  3.26       0.65   \n",
              "3                    17.0                  60.0  0.99800  3.16       0.58   \n",
              "4                    11.0                  34.0  0.99780  3.51       0.56   \n",
              "...                   ...                   ...      ...   ...        ...   \n",
              "1594                 32.0                  44.0  0.99490  3.45       0.58   \n",
              "1595                 39.0                  51.0  0.99512  3.52       0.76   \n",
              "1596                 29.0                  40.0  0.99574  3.42       0.75   \n",
              "1597                 32.0                  44.0  0.99547  3.57       0.71   \n",
              "1598                 18.0                  42.0  0.99549  3.39       0.66   \n",
              "\n",
              "      alcohol  quality  \n",
              "0         9.4        5  \n",
              "1         9.8        5  \n",
              "2         9.8        5  \n",
              "3         9.8        6  \n",
              "4         9.4        5  \n",
              "...       ...      ...  \n",
              "1594     10.5        5  \n",
              "1595     11.2        6  \n",
              "1596     11.0        6  \n",
              "1597     10.2        5  \n",
              "1598     11.0        6  \n",
              "\n",
              "[1599 rows x 12 columns]"
            ],
            "text/html": [
              "\n",
              "  <div id=\"df-c3b88f03-1e36-48fc-b4cc-c73a53a84610\" class=\"colab-df-container\">\n",
              "    <div>\n",
              "<style scoped>\n",
              "    .dataframe tbody tr th:only-of-type {\n",
              "        vertical-align: middle;\n",
              "    }\n",
              "\n",
              "    .dataframe tbody tr th {\n",
              "        vertical-align: top;\n",
              "    }\n",
              "\n",
              "    .dataframe thead th {\n",
              "        text-align: right;\n",
              "    }\n",
              "</style>\n",
              "<table border=\"1\" class=\"dataframe\">\n",
              "  <thead>\n",
              "    <tr style=\"text-align: right;\">\n",
              "      <th></th>\n",
              "      <th>fixed acidity</th>\n",
              "      <th>volatile acidity</th>\n",
              "      <th>citric acid</th>\n",
              "      <th>residual sugar</th>\n",
              "      <th>chlorides</th>\n",
              "      <th>free sulfur dioxide</th>\n",
              "      <th>total sulfur dioxide</th>\n",
              "      <th>density</th>\n",
              "      <th>pH</th>\n",
              "      <th>sulphates</th>\n",
              "      <th>alcohol</th>\n",
              "      <th>quality</th>\n",
              "    </tr>\n",
              "  </thead>\n",
              "  <tbody>\n",
              "    <tr>\n",
              "      <th>0</th>\n",
              "      <td>7.4</td>\n",
              "      <td>0.700</td>\n",
              "      <td>0.00</td>\n",
              "      <td>1.9</td>\n",
              "      <td>0.076</td>\n",
              "      <td>11.0</td>\n",
              "      <td>34.0</td>\n",
              "      <td>0.99780</td>\n",
              "      <td>3.51</td>\n",
              "      <td>0.56</td>\n",
              "      <td>9.4</td>\n",
              "      <td>5</td>\n",
              "    </tr>\n",
              "    <tr>\n",
              "      <th>1</th>\n",
              "      <td>7.8</td>\n",
              "      <td>0.880</td>\n",
              "      <td>0.00</td>\n",
              "      <td>2.6</td>\n",
              "      <td>0.098</td>\n",
              "      <td>25.0</td>\n",
              "      <td>67.0</td>\n",
              "      <td>0.99680</td>\n",
              "      <td>3.20</td>\n",
              "      <td>0.68</td>\n",
              "      <td>9.8</td>\n",
              "      <td>5</td>\n",
              "    </tr>\n",
              "    <tr>\n",
              "      <th>2</th>\n",
              "      <td>7.8</td>\n",
              "      <td>0.760</td>\n",
              "      <td>0.04</td>\n",
              "      <td>2.3</td>\n",
              "      <td>0.092</td>\n",
              "      <td>15.0</td>\n",
              "      <td>54.0</td>\n",
              "      <td>0.99700</td>\n",
              "      <td>3.26</td>\n",
              "      <td>0.65</td>\n",
              "      <td>9.8</td>\n",
              "      <td>5</td>\n",
              "    </tr>\n",
              "    <tr>\n",
              "      <th>3</th>\n",
              "      <td>11.2</td>\n",
              "      <td>0.280</td>\n",
              "      <td>0.56</td>\n",
              "      <td>1.9</td>\n",
              "      <td>0.075</td>\n",
              "      <td>17.0</td>\n",
              "      <td>60.0</td>\n",
              "      <td>0.99800</td>\n",
              "      <td>3.16</td>\n",
              "      <td>0.58</td>\n",
              "      <td>9.8</td>\n",
              "      <td>6</td>\n",
              "    </tr>\n",
              "    <tr>\n",
              "      <th>4</th>\n",
              "      <td>7.4</td>\n",
              "      <td>0.700</td>\n",
              "      <td>0.00</td>\n",
              "      <td>1.9</td>\n",
              "      <td>0.076</td>\n",
              "      <td>11.0</td>\n",
              "      <td>34.0</td>\n",
              "      <td>0.99780</td>\n",
              "      <td>3.51</td>\n",
              "      <td>0.56</td>\n",
              "      <td>9.4</td>\n",
              "      <td>5</td>\n",
              "    </tr>\n",
              "    <tr>\n",
              "      <th>...</th>\n",
              "      <td>...</td>\n",
              "      <td>...</td>\n",
              "      <td>...</td>\n",
              "      <td>...</td>\n",
              "      <td>...</td>\n",
              "      <td>...</td>\n",
              "      <td>...</td>\n",
              "      <td>...</td>\n",
              "      <td>...</td>\n",
              "      <td>...</td>\n",
              "      <td>...</td>\n",
              "      <td>...</td>\n",
              "    </tr>\n",
              "    <tr>\n",
              "      <th>1594</th>\n",
              "      <td>6.2</td>\n",
              "      <td>0.600</td>\n",
              "      <td>0.08</td>\n",
              "      <td>2.0</td>\n",
              "      <td>0.090</td>\n",
              "      <td>32.0</td>\n",
              "      <td>44.0</td>\n",
              "      <td>0.99490</td>\n",
              "      <td>3.45</td>\n",
              "      <td>0.58</td>\n",
              "      <td>10.5</td>\n",
              "      <td>5</td>\n",
              "    </tr>\n",
              "    <tr>\n",
              "      <th>1595</th>\n",
              "      <td>5.9</td>\n",
              "      <td>0.550</td>\n",
              "      <td>0.10</td>\n",
              "      <td>2.2</td>\n",
              "      <td>0.062</td>\n",
              "      <td>39.0</td>\n",
              "      <td>51.0</td>\n",
              "      <td>0.99512</td>\n",
              "      <td>3.52</td>\n",
              "      <td>0.76</td>\n",
              "      <td>11.2</td>\n",
              "      <td>6</td>\n",
              "    </tr>\n",
              "    <tr>\n",
              "      <th>1596</th>\n",
              "      <td>6.3</td>\n",
              "      <td>0.510</td>\n",
              "      <td>0.13</td>\n",
              "      <td>2.3</td>\n",
              "      <td>0.076</td>\n",
              "      <td>29.0</td>\n",
              "      <td>40.0</td>\n",
              "      <td>0.99574</td>\n",
              "      <td>3.42</td>\n",
              "      <td>0.75</td>\n",
              "      <td>11.0</td>\n",
              "      <td>6</td>\n",
              "    </tr>\n",
              "    <tr>\n",
              "      <th>1597</th>\n",
              "      <td>5.9</td>\n",
              "      <td>0.645</td>\n",
              "      <td>0.12</td>\n",
              "      <td>2.0</td>\n",
              "      <td>0.075</td>\n",
              "      <td>32.0</td>\n",
              "      <td>44.0</td>\n",
              "      <td>0.99547</td>\n",
              "      <td>3.57</td>\n",
              "      <td>0.71</td>\n",
              "      <td>10.2</td>\n",
              "      <td>5</td>\n",
              "    </tr>\n",
              "    <tr>\n",
              "      <th>1598</th>\n",
              "      <td>6.0</td>\n",
              "      <td>0.310</td>\n",
              "      <td>0.47</td>\n",
              "      <td>3.6</td>\n",
              "      <td>0.067</td>\n",
              "      <td>18.0</td>\n",
              "      <td>42.0</td>\n",
              "      <td>0.99549</td>\n",
              "      <td>3.39</td>\n",
              "      <td>0.66</td>\n",
              "      <td>11.0</td>\n",
              "      <td>6</td>\n",
              "    </tr>\n",
              "  </tbody>\n",
              "</table>\n",
              "<p>1599 rows × 12 columns</p>\n",
              "</div>\n",
              "    <div class=\"colab-df-buttons\">\n",
              "\n",
              "  <div class=\"colab-df-container\">\n",
              "    <button class=\"colab-df-convert\" onclick=\"convertToInteractive('df-c3b88f03-1e36-48fc-b4cc-c73a53a84610')\"\n",
              "            title=\"Convert this dataframe to an interactive table.\"\n",
              "            style=\"display:none;\">\n",
              "\n",
              "  <svg xmlns=\"http://www.w3.org/2000/svg\" height=\"24px\" viewBox=\"0 -960 960 960\">\n",
              "    <path d=\"M120-120v-720h720v720H120Zm60-500h600v-160H180v160Zm220 220h160v-160H400v160Zm0 220h160v-160H400v160ZM180-400h160v-160H180v160Zm440 0h160v-160H620v160ZM180-180h160v-160H180v160Zm440 0h160v-160H620v160Z\"/>\n",
              "  </svg>\n",
              "    </button>\n",
              "\n",
              "  <style>\n",
              "    .colab-df-container {\n",
              "      display:flex;\n",
              "      gap: 12px;\n",
              "    }\n",
              "\n",
              "    .colab-df-convert {\n",
              "      background-color: #E8F0FE;\n",
              "      border: none;\n",
              "      border-radius: 50%;\n",
              "      cursor: pointer;\n",
              "      display: none;\n",
              "      fill: #1967D2;\n",
              "      height: 32px;\n",
              "      padding: 0 0 0 0;\n",
              "      width: 32px;\n",
              "    }\n",
              "\n",
              "    .colab-df-convert:hover {\n",
              "      background-color: #E2EBFA;\n",
              "      box-shadow: 0px 1px 2px rgba(60, 64, 67, 0.3), 0px 1px 3px 1px rgba(60, 64, 67, 0.15);\n",
              "      fill: #174EA6;\n",
              "    }\n",
              "\n",
              "    .colab-df-buttons div {\n",
              "      margin-bottom: 4px;\n",
              "    }\n",
              "\n",
              "    [theme=dark] .colab-df-convert {\n",
              "      background-color: #3B4455;\n",
              "      fill: #D2E3FC;\n",
              "    }\n",
              "\n",
              "    [theme=dark] .colab-df-convert:hover {\n",
              "      background-color: #434B5C;\n",
              "      box-shadow: 0px 1px 3px 1px rgba(0, 0, 0, 0.15);\n",
              "      filter: drop-shadow(0px 1px 2px rgba(0, 0, 0, 0.3));\n",
              "      fill: #FFFFFF;\n",
              "    }\n",
              "  </style>\n",
              "\n",
              "    <script>\n",
              "      const buttonEl =\n",
              "        document.querySelector('#df-c3b88f03-1e36-48fc-b4cc-c73a53a84610 button.colab-df-convert');\n",
              "      buttonEl.style.display =\n",
              "        google.colab.kernel.accessAllowed ? 'block' : 'none';\n",
              "\n",
              "      async function convertToInteractive(key) {\n",
              "        const element = document.querySelector('#df-c3b88f03-1e36-48fc-b4cc-c73a53a84610');\n",
              "        const dataTable =\n",
              "          await google.colab.kernel.invokeFunction('convertToInteractive',\n",
              "                                                    [key], {});\n",
              "        if (!dataTable) return;\n",
              "\n",
              "        const docLinkHtml = 'Like what you see? Visit the ' +\n",
              "          '<a target=\"_blank\" href=https://colab.research.google.com/notebooks/data_table.ipynb>data table notebook</a>'\n",
              "          + ' to learn more about interactive tables.';\n",
              "        element.innerHTML = '';\n",
              "        dataTable['output_type'] = 'display_data';\n",
              "        await google.colab.output.renderOutput(dataTable, element);\n",
              "        const docLink = document.createElement('div');\n",
              "        docLink.innerHTML = docLinkHtml;\n",
              "        element.appendChild(docLink);\n",
              "      }\n",
              "    </script>\n",
              "  </div>\n",
              "\n",
              "\n",
              "<div id=\"df-482f4758-fe80-449e-af8f-069cf49a4c64\">\n",
              "  <button class=\"colab-df-quickchart\" onclick=\"quickchart('df-482f4758-fe80-449e-af8f-069cf49a4c64')\"\n",
              "            title=\"Suggest charts.\"\n",
              "            style=\"display:none;\">\n",
              "\n",
              "<svg xmlns=\"http://www.w3.org/2000/svg\" height=\"24px\"viewBox=\"0 0 24 24\"\n",
              "     width=\"24px\">\n",
              "    <g>\n",
              "        <path d=\"M19 3H5c-1.1 0-2 .9-2 2v14c0 1.1.9 2 2 2h14c1.1 0 2-.9 2-2V5c0-1.1-.9-2-2-2zM9 17H7v-7h2v7zm4 0h-2V7h2v10zm4 0h-2v-4h2v4z\"/>\n",
              "    </g>\n",
              "</svg>\n",
              "  </button>\n",
              "\n",
              "<style>\n",
              "  .colab-df-quickchart {\n",
              "      --bg-color: #E8F0FE;\n",
              "      --fill-color: #1967D2;\n",
              "      --hover-bg-color: #E2EBFA;\n",
              "      --hover-fill-color: #174EA6;\n",
              "      --disabled-fill-color: #AAA;\n",
              "      --disabled-bg-color: #DDD;\n",
              "  }\n",
              "\n",
              "  [theme=dark] .colab-df-quickchart {\n",
              "      --bg-color: #3B4455;\n",
              "      --fill-color: #D2E3FC;\n",
              "      --hover-bg-color: #434B5C;\n",
              "      --hover-fill-color: #FFFFFF;\n",
              "      --disabled-bg-color: #3B4455;\n",
              "      --disabled-fill-color: #666;\n",
              "  }\n",
              "\n",
              "  .colab-df-quickchart {\n",
              "    background-color: var(--bg-color);\n",
              "    border: none;\n",
              "    border-radius: 50%;\n",
              "    cursor: pointer;\n",
              "    display: none;\n",
              "    fill: var(--fill-color);\n",
              "    height: 32px;\n",
              "    padding: 0;\n",
              "    width: 32px;\n",
              "  }\n",
              "\n",
              "  .colab-df-quickchart:hover {\n",
              "    background-color: var(--hover-bg-color);\n",
              "    box-shadow: 0 1px 2px rgba(60, 64, 67, 0.3), 0 1px 3px 1px rgba(60, 64, 67, 0.15);\n",
              "    fill: var(--button-hover-fill-color);\n",
              "  }\n",
              "\n",
              "  .colab-df-quickchart-complete:disabled,\n",
              "  .colab-df-quickchart-complete:disabled:hover {\n",
              "    background-color: var(--disabled-bg-color);\n",
              "    fill: var(--disabled-fill-color);\n",
              "    box-shadow: none;\n",
              "  }\n",
              "\n",
              "  .colab-df-spinner {\n",
              "    border: 2px solid var(--fill-color);\n",
              "    border-color: transparent;\n",
              "    border-bottom-color: var(--fill-color);\n",
              "    animation:\n",
              "      spin 1s steps(1) infinite;\n",
              "  }\n",
              "\n",
              "  @keyframes spin {\n",
              "    0% {\n",
              "      border-color: transparent;\n",
              "      border-bottom-color: var(--fill-color);\n",
              "      border-left-color: var(--fill-color);\n",
              "    }\n",
              "    20% {\n",
              "      border-color: transparent;\n",
              "      border-left-color: var(--fill-color);\n",
              "      border-top-color: var(--fill-color);\n",
              "    }\n",
              "    30% {\n",
              "      border-color: transparent;\n",
              "      border-left-color: var(--fill-color);\n",
              "      border-top-color: var(--fill-color);\n",
              "      border-right-color: var(--fill-color);\n",
              "    }\n",
              "    40% {\n",
              "      border-color: transparent;\n",
              "      border-right-color: var(--fill-color);\n",
              "      border-top-color: var(--fill-color);\n",
              "    }\n",
              "    60% {\n",
              "      border-color: transparent;\n",
              "      border-right-color: var(--fill-color);\n",
              "    }\n",
              "    80% {\n",
              "      border-color: transparent;\n",
              "      border-right-color: var(--fill-color);\n",
              "      border-bottom-color: var(--fill-color);\n",
              "    }\n",
              "    90% {\n",
              "      border-color: transparent;\n",
              "      border-bottom-color: var(--fill-color);\n",
              "    }\n",
              "  }\n",
              "</style>\n",
              "\n",
              "  <script>\n",
              "    async function quickchart(key) {\n",
              "      const quickchartButtonEl =\n",
              "        document.querySelector('#' + key + ' button');\n",
              "      quickchartButtonEl.disabled = true;  // To prevent multiple clicks.\n",
              "      quickchartButtonEl.classList.add('colab-df-spinner');\n",
              "      try {\n",
              "        const charts = await google.colab.kernel.invokeFunction(\n",
              "            'suggestCharts', [key], {});\n",
              "      } catch (error) {\n",
              "        console.error('Error during call to suggestCharts:', error);\n",
              "      }\n",
              "      quickchartButtonEl.classList.remove('colab-df-spinner');\n",
              "      quickchartButtonEl.classList.add('colab-df-quickchart-complete');\n",
              "    }\n",
              "    (() => {\n",
              "      let quickchartButtonEl =\n",
              "        document.querySelector('#df-482f4758-fe80-449e-af8f-069cf49a4c64 button');\n",
              "      quickchartButtonEl.style.display =\n",
              "        google.colab.kernel.accessAllowed ? 'block' : 'none';\n",
              "    })();\n",
              "  </script>\n",
              "</div>\n",
              "    </div>\n",
              "  </div>\n"
            ]
          },
          "metadata": {},
          "execution_count": 2
        }
      ]
    },
    {
      "cell_type": "code",
      "source": [
        "df_white = pd.read_csv('/content/drive/MyDrive/TCC/winequality-white.csv', sep=\";\")\n",
        "df_white"
      ],
      "metadata": {
        "colab": {
          "base_uri": "https://localhost:8080/",
          "height": 424
        },
        "id": "X6iocEkEDo2L",
        "outputId": "347f0fa6-ba08-4616-95f1-621c5c628f26"
      },
      "execution_count": 3,
      "outputs": [
        {
          "output_type": "execute_result",
          "data": {
            "text/plain": [
              "      fixed acidity  volatile acidity  citric acid  residual sugar  chlorides  \\\n",
              "0               7.0              0.27         0.36            20.7      0.045   \n",
              "1               6.3              0.30         0.34             1.6      0.049   \n",
              "2               8.1              0.28         0.40             6.9      0.050   \n",
              "3               7.2              0.23         0.32             8.5      0.058   \n",
              "4               7.2              0.23         0.32             8.5      0.058   \n",
              "...             ...               ...          ...             ...        ...   \n",
              "4893            6.2              0.21         0.29             1.6      0.039   \n",
              "4894            6.6              0.32         0.36             8.0      0.047   \n",
              "4895            6.5              0.24         0.19             1.2      0.041   \n",
              "4896            5.5              0.29         0.30             1.1      0.022   \n",
              "4897            6.0              0.21         0.38             0.8      0.020   \n",
              "\n",
              "      free sulfur dioxide  total sulfur dioxide  density    pH  sulphates  \\\n",
              "0                    45.0                 170.0  1.00100  3.00       0.45   \n",
              "1                    14.0                 132.0  0.99400  3.30       0.49   \n",
              "2                    30.0                  97.0  0.99510  3.26       0.44   \n",
              "3                    47.0                 186.0  0.99560  3.19       0.40   \n",
              "4                    47.0                 186.0  0.99560  3.19       0.40   \n",
              "...                   ...                   ...      ...   ...        ...   \n",
              "4893                 24.0                  92.0  0.99114  3.27       0.50   \n",
              "4894                 57.0                 168.0  0.99490  3.15       0.46   \n",
              "4895                 30.0                 111.0  0.99254  2.99       0.46   \n",
              "4896                 20.0                 110.0  0.98869  3.34       0.38   \n",
              "4897                 22.0                  98.0  0.98941  3.26       0.32   \n",
              "\n",
              "      alcohol  quality  \n",
              "0         8.8        6  \n",
              "1         9.5        6  \n",
              "2        10.1        6  \n",
              "3         9.9        6  \n",
              "4         9.9        6  \n",
              "...       ...      ...  \n",
              "4893     11.2        6  \n",
              "4894      9.6        5  \n",
              "4895      9.4        6  \n",
              "4896     12.8        7  \n",
              "4897     11.8        6  \n",
              "\n",
              "[4898 rows x 12 columns]"
            ],
            "text/html": [
              "\n",
              "  <div id=\"df-3cf6d6ac-a5c0-4659-82a5-3c9fd7ff4b10\" class=\"colab-df-container\">\n",
              "    <div>\n",
              "<style scoped>\n",
              "    .dataframe tbody tr th:only-of-type {\n",
              "        vertical-align: middle;\n",
              "    }\n",
              "\n",
              "    .dataframe tbody tr th {\n",
              "        vertical-align: top;\n",
              "    }\n",
              "\n",
              "    .dataframe thead th {\n",
              "        text-align: right;\n",
              "    }\n",
              "</style>\n",
              "<table border=\"1\" class=\"dataframe\">\n",
              "  <thead>\n",
              "    <tr style=\"text-align: right;\">\n",
              "      <th></th>\n",
              "      <th>fixed acidity</th>\n",
              "      <th>volatile acidity</th>\n",
              "      <th>citric acid</th>\n",
              "      <th>residual sugar</th>\n",
              "      <th>chlorides</th>\n",
              "      <th>free sulfur dioxide</th>\n",
              "      <th>total sulfur dioxide</th>\n",
              "      <th>density</th>\n",
              "      <th>pH</th>\n",
              "      <th>sulphates</th>\n",
              "      <th>alcohol</th>\n",
              "      <th>quality</th>\n",
              "    </tr>\n",
              "  </thead>\n",
              "  <tbody>\n",
              "    <tr>\n",
              "      <th>0</th>\n",
              "      <td>7.0</td>\n",
              "      <td>0.27</td>\n",
              "      <td>0.36</td>\n",
              "      <td>20.7</td>\n",
              "      <td>0.045</td>\n",
              "      <td>45.0</td>\n",
              "      <td>170.0</td>\n",
              "      <td>1.00100</td>\n",
              "      <td>3.00</td>\n",
              "      <td>0.45</td>\n",
              "      <td>8.8</td>\n",
              "      <td>6</td>\n",
              "    </tr>\n",
              "    <tr>\n",
              "      <th>1</th>\n",
              "      <td>6.3</td>\n",
              "      <td>0.30</td>\n",
              "      <td>0.34</td>\n",
              "      <td>1.6</td>\n",
              "      <td>0.049</td>\n",
              "      <td>14.0</td>\n",
              "      <td>132.0</td>\n",
              "      <td>0.99400</td>\n",
              "      <td>3.30</td>\n",
              "      <td>0.49</td>\n",
              "      <td>9.5</td>\n",
              "      <td>6</td>\n",
              "    </tr>\n",
              "    <tr>\n",
              "      <th>2</th>\n",
              "      <td>8.1</td>\n",
              "      <td>0.28</td>\n",
              "      <td>0.40</td>\n",
              "      <td>6.9</td>\n",
              "      <td>0.050</td>\n",
              "      <td>30.0</td>\n",
              "      <td>97.0</td>\n",
              "      <td>0.99510</td>\n",
              "      <td>3.26</td>\n",
              "      <td>0.44</td>\n",
              "      <td>10.1</td>\n",
              "      <td>6</td>\n",
              "    </tr>\n",
              "    <tr>\n",
              "      <th>3</th>\n",
              "      <td>7.2</td>\n",
              "      <td>0.23</td>\n",
              "      <td>0.32</td>\n",
              "      <td>8.5</td>\n",
              "      <td>0.058</td>\n",
              "      <td>47.0</td>\n",
              "      <td>186.0</td>\n",
              "      <td>0.99560</td>\n",
              "      <td>3.19</td>\n",
              "      <td>0.40</td>\n",
              "      <td>9.9</td>\n",
              "      <td>6</td>\n",
              "    </tr>\n",
              "    <tr>\n",
              "      <th>4</th>\n",
              "      <td>7.2</td>\n",
              "      <td>0.23</td>\n",
              "      <td>0.32</td>\n",
              "      <td>8.5</td>\n",
              "      <td>0.058</td>\n",
              "      <td>47.0</td>\n",
              "      <td>186.0</td>\n",
              "      <td>0.99560</td>\n",
              "      <td>3.19</td>\n",
              "      <td>0.40</td>\n",
              "      <td>9.9</td>\n",
              "      <td>6</td>\n",
              "    </tr>\n",
              "    <tr>\n",
              "      <th>...</th>\n",
              "      <td>...</td>\n",
              "      <td>...</td>\n",
              "      <td>...</td>\n",
              "      <td>...</td>\n",
              "      <td>...</td>\n",
              "      <td>...</td>\n",
              "      <td>...</td>\n",
              "      <td>...</td>\n",
              "      <td>...</td>\n",
              "      <td>...</td>\n",
              "      <td>...</td>\n",
              "      <td>...</td>\n",
              "    </tr>\n",
              "    <tr>\n",
              "      <th>4893</th>\n",
              "      <td>6.2</td>\n",
              "      <td>0.21</td>\n",
              "      <td>0.29</td>\n",
              "      <td>1.6</td>\n",
              "      <td>0.039</td>\n",
              "      <td>24.0</td>\n",
              "      <td>92.0</td>\n",
              "      <td>0.99114</td>\n",
              "      <td>3.27</td>\n",
              "      <td>0.50</td>\n",
              "      <td>11.2</td>\n",
              "      <td>6</td>\n",
              "    </tr>\n",
              "    <tr>\n",
              "      <th>4894</th>\n",
              "      <td>6.6</td>\n",
              "      <td>0.32</td>\n",
              "      <td>0.36</td>\n",
              "      <td>8.0</td>\n",
              "      <td>0.047</td>\n",
              "      <td>57.0</td>\n",
              "      <td>168.0</td>\n",
              "      <td>0.99490</td>\n",
              "      <td>3.15</td>\n",
              "      <td>0.46</td>\n",
              "      <td>9.6</td>\n",
              "      <td>5</td>\n",
              "    </tr>\n",
              "    <tr>\n",
              "      <th>4895</th>\n",
              "      <td>6.5</td>\n",
              "      <td>0.24</td>\n",
              "      <td>0.19</td>\n",
              "      <td>1.2</td>\n",
              "      <td>0.041</td>\n",
              "      <td>30.0</td>\n",
              "      <td>111.0</td>\n",
              "      <td>0.99254</td>\n",
              "      <td>2.99</td>\n",
              "      <td>0.46</td>\n",
              "      <td>9.4</td>\n",
              "      <td>6</td>\n",
              "    </tr>\n",
              "    <tr>\n",
              "      <th>4896</th>\n",
              "      <td>5.5</td>\n",
              "      <td>0.29</td>\n",
              "      <td>0.30</td>\n",
              "      <td>1.1</td>\n",
              "      <td>0.022</td>\n",
              "      <td>20.0</td>\n",
              "      <td>110.0</td>\n",
              "      <td>0.98869</td>\n",
              "      <td>3.34</td>\n",
              "      <td>0.38</td>\n",
              "      <td>12.8</td>\n",
              "      <td>7</td>\n",
              "    </tr>\n",
              "    <tr>\n",
              "      <th>4897</th>\n",
              "      <td>6.0</td>\n",
              "      <td>0.21</td>\n",
              "      <td>0.38</td>\n",
              "      <td>0.8</td>\n",
              "      <td>0.020</td>\n",
              "      <td>22.0</td>\n",
              "      <td>98.0</td>\n",
              "      <td>0.98941</td>\n",
              "      <td>3.26</td>\n",
              "      <td>0.32</td>\n",
              "      <td>11.8</td>\n",
              "      <td>6</td>\n",
              "    </tr>\n",
              "  </tbody>\n",
              "</table>\n",
              "<p>4898 rows × 12 columns</p>\n",
              "</div>\n",
              "    <div class=\"colab-df-buttons\">\n",
              "\n",
              "  <div class=\"colab-df-container\">\n",
              "    <button class=\"colab-df-convert\" onclick=\"convertToInteractive('df-3cf6d6ac-a5c0-4659-82a5-3c9fd7ff4b10')\"\n",
              "            title=\"Convert this dataframe to an interactive table.\"\n",
              "            style=\"display:none;\">\n",
              "\n",
              "  <svg xmlns=\"http://www.w3.org/2000/svg\" height=\"24px\" viewBox=\"0 -960 960 960\">\n",
              "    <path d=\"M120-120v-720h720v720H120Zm60-500h600v-160H180v160Zm220 220h160v-160H400v160Zm0 220h160v-160H400v160ZM180-400h160v-160H180v160Zm440 0h160v-160H620v160ZM180-180h160v-160H180v160Zm440 0h160v-160H620v160Z\"/>\n",
              "  </svg>\n",
              "    </button>\n",
              "\n",
              "  <style>\n",
              "    .colab-df-container {\n",
              "      display:flex;\n",
              "      gap: 12px;\n",
              "    }\n",
              "\n",
              "    .colab-df-convert {\n",
              "      background-color: #E8F0FE;\n",
              "      border: none;\n",
              "      border-radius: 50%;\n",
              "      cursor: pointer;\n",
              "      display: none;\n",
              "      fill: #1967D2;\n",
              "      height: 32px;\n",
              "      padding: 0 0 0 0;\n",
              "      width: 32px;\n",
              "    }\n",
              "\n",
              "    .colab-df-convert:hover {\n",
              "      background-color: #E2EBFA;\n",
              "      box-shadow: 0px 1px 2px rgba(60, 64, 67, 0.3), 0px 1px 3px 1px rgba(60, 64, 67, 0.15);\n",
              "      fill: #174EA6;\n",
              "    }\n",
              "\n",
              "    .colab-df-buttons div {\n",
              "      margin-bottom: 4px;\n",
              "    }\n",
              "\n",
              "    [theme=dark] .colab-df-convert {\n",
              "      background-color: #3B4455;\n",
              "      fill: #D2E3FC;\n",
              "    }\n",
              "\n",
              "    [theme=dark] .colab-df-convert:hover {\n",
              "      background-color: #434B5C;\n",
              "      box-shadow: 0px 1px 3px 1px rgba(0, 0, 0, 0.15);\n",
              "      filter: drop-shadow(0px 1px 2px rgba(0, 0, 0, 0.3));\n",
              "      fill: #FFFFFF;\n",
              "    }\n",
              "  </style>\n",
              "\n",
              "    <script>\n",
              "      const buttonEl =\n",
              "        document.querySelector('#df-3cf6d6ac-a5c0-4659-82a5-3c9fd7ff4b10 button.colab-df-convert');\n",
              "      buttonEl.style.display =\n",
              "        google.colab.kernel.accessAllowed ? 'block' : 'none';\n",
              "\n",
              "      async function convertToInteractive(key) {\n",
              "        const element = document.querySelector('#df-3cf6d6ac-a5c0-4659-82a5-3c9fd7ff4b10');\n",
              "        const dataTable =\n",
              "          await google.colab.kernel.invokeFunction('convertToInteractive',\n",
              "                                                    [key], {});\n",
              "        if (!dataTable) return;\n",
              "\n",
              "        const docLinkHtml = 'Like what you see? Visit the ' +\n",
              "          '<a target=\"_blank\" href=https://colab.research.google.com/notebooks/data_table.ipynb>data table notebook</a>'\n",
              "          + ' to learn more about interactive tables.';\n",
              "        element.innerHTML = '';\n",
              "        dataTable['output_type'] = 'display_data';\n",
              "        await google.colab.output.renderOutput(dataTable, element);\n",
              "        const docLink = document.createElement('div');\n",
              "        docLink.innerHTML = docLinkHtml;\n",
              "        element.appendChild(docLink);\n",
              "      }\n",
              "    </script>\n",
              "  </div>\n",
              "\n",
              "\n",
              "<div id=\"df-5c5b21d0-f854-49c5-bf3b-fffc39612b03\">\n",
              "  <button class=\"colab-df-quickchart\" onclick=\"quickchart('df-5c5b21d0-f854-49c5-bf3b-fffc39612b03')\"\n",
              "            title=\"Suggest charts.\"\n",
              "            style=\"display:none;\">\n",
              "\n",
              "<svg xmlns=\"http://www.w3.org/2000/svg\" height=\"24px\"viewBox=\"0 0 24 24\"\n",
              "     width=\"24px\">\n",
              "    <g>\n",
              "        <path d=\"M19 3H5c-1.1 0-2 .9-2 2v14c0 1.1.9 2 2 2h14c1.1 0 2-.9 2-2V5c0-1.1-.9-2-2-2zM9 17H7v-7h2v7zm4 0h-2V7h2v10zm4 0h-2v-4h2v4z\"/>\n",
              "    </g>\n",
              "</svg>\n",
              "  </button>\n",
              "\n",
              "<style>\n",
              "  .colab-df-quickchart {\n",
              "      --bg-color: #E8F0FE;\n",
              "      --fill-color: #1967D2;\n",
              "      --hover-bg-color: #E2EBFA;\n",
              "      --hover-fill-color: #174EA6;\n",
              "      --disabled-fill-color: #AAA;\n",
              "      --disabled-bg-color: #DDD;\n",
              "  }\n",
              "\n",
              "  [theme=dark] .colab-df-quickchart {\n",
              "      --bg-color: #3B4455;\n",
              "      --fill-color: #D2E3FC;\n",
              "      --hover-bg-color: #434B5C;\n",
              "      --hover-fill-color: #FFFFFF;\n",
              "      --disabled-bg-color: #3B4455;\n",
              "      --disabled-fill-color: #666;\n",
              "  }\n",
              "\n",
              "  .colab-df-quickchart {\n",
              "    background-color: var(--bg-color);\n",
              "    border: none;\n",
              "    border-radius: 50%;\n",
              "    cursor: pointer;\n",
              "    display: none;\n",
              "    fill: var(--fill-color);\n",
              "    height: 32px;\n",
              "    padding: 0;\n",
              "    width: 32px;\n",
              "  }\n",
              "\n",
              "  .colab-df-quickchart:hover {\n",
              "    background-color: var(--hover-bg-color);\n",
              "    box-shadow: 0 1px 2px rgba(60, 64, 67, 0.3), 0 1px 3px 1px rgba(60, 64, 67, 0.15);\n",
              "    fill: var(--button-hover-fill-color);\n",
              "  }\n",
              "\n",
              "  .colab-df-quickchart-complete:disabled,\n",
              "  .colab-df-quickchart-complete:disabled:hover {\n",
              "    background-color: var(--disabled-bg-color);\n",
              "    fill: var(--disabled-fill-color);\n",
              "    box-shadow: none;\n",
              "  }\n",
              "\n",
              "  .colab-df-spinner {\n",
              "    border: 2px solid var(--fill-color);\n",
              "    border-color: transparent;\n",
              "    border-bottom-color: var(--fill-color);\n",
              "    animation:\n",
              "      spin 1s steps(1) infinite;\n",
              "  }\n",
              "\n",
              "  @keyframes spin {\n",
              "    0% {\n",
              "      border-color: transparent;\n",
              "      border-bottom-color: var(--fill-color);\n",
              "      border-left-color: var(--fill-color);\n",
              "    }\n",
              "    20% {\n",
              "      border-color: transparent;\n",
              "      border-left-color: var(--fill-color);\n",
              "      border-top-color: var(--fill-color);\n",
              "    }\n",
              "    30% {\n",
              "      border-color: transparent;\n",
              "      border-left-color: var(--fill-color);\n",
              "      border-top-color: var(--fill-color);\n",
              "      border-right-color: var(--fill-color);\n",
              "    }\n",
              "    40% {\n",
              "      border-color: transparent;\n",
              "      border-right-color: var(--fill-color);\n",
              "      border-top-color: var(--fill-color);\n",
              "    }\n",
              "    60% {\n",
              "      border-color: transparent;\n",
              "      border-right-color: var(--fill-color);\n",
              "    }\n",
              "    80% {\n",
              "      border-color: transparent;\n",
              "      border-right-color: var(--fill-color);\n",
              "      border-bottom-color: var(--fill-color);\n",
              "    }\n",
              "    90% {\n",
              "      border-color: transparent;\n",
              "      border-bottom-color: var(--fill-color);\n",
              "    }\n",
              "  }\n",
              "</style>\n",
              "\n",
              "  <script>\n",
              "    async function quickchart(key) {\n",
              "      const quickchartButtonEl =\n",
              "        document.querySelector('#' + key + ' button');\n",
              "      quickchartButtonEl.disabled = true;  // To prevent multiple clicks.\n",
              "      quickchartButtonEl.classList.add('colab-df-spinner');\n",
              "      try {\n",
              "        const charts = await google.colab.kernel.invokeFunction(\n",
              "            'suggestCharts', [key], {});\n",
              "      } catch (error) {\n",
              "        console.error('Error during call to suggestCharts:', error);\n",
              "      }\n",
              "      quickchartButtonEl.classList.remove('colab-df-spinner');\n",
              "      quickchartButtonEl.classList.add('colab-df-quickchart-complete');\n",
              "    }\n",
              "    (() => {\n",
              "      let quickchartButtonEl =\n",
              "        document.querySelector('#df-5c5b21d0-f854-49c5-bf3b-fffc39612b03 button');\n",
              "      quickchartButtonEl.style.display =\n",
              "        google.colab.kernel.accessAllowed ? 'block' : 'none';\n",
              "    })();\n",
              "  </script>\n",
              "</div>\n",
              "    </div>\n",
              "  </div>\n"
            ]
          },
          "metadata": {},
          "execution_count": 3
        }
      ]
    },
    {
      "cell_type": "markdown",
      "source": [
        "## 1. Exploratory Data Analysis - EDA"
      ],
      "metadata": {
        "id": "LWuoWsgeaGSE"
      }
    },
    {
      "cell_type": "markdown",
      "source": [
        "Let's perform the EDA using the white wine dataframe, since it contains more records. We will start with a describe method to have an overview of the data, then moving to more specific analyses."
      ],
      "metadata": {
        "id": "gIbNXXA0aaOA"
      }
    },
    {
      "cell_type": "code",
      "source": [
        "df_white.columns = df_white.columns.str.replace(' ', '_')"
      ],
      "metadata": {
        "id": "Wl2g_AxYeuZ-"
      },
      "execution_count": 4,
      "outputs": []
    },
    {
      "cell_type": "code",
      "source": [
        "df_white.describe()"
      ],
      "metadata": {
        "colab": {
          "base_uri": "https://localhost:8080/",
          "height": 300
        },
        "id": "ko4klP2DaIvL",
        "outputId": "b63058b9-7ab0-4532-b659-89422b1fa76f"
      },
      "execution_count": 5,
      "outputs": [
        {
          "output_type": "execute_result",
          "data": {
            "text/plain": [
              "       fixed_acidity  volatile_acidity  citric_acid  residual_sugar  \\\n",
              "count    4898.000000       4898.000000  4898.000000     4898.000000   \n",
              "mean        6.854788          0.278241     0.334192        6.391415   \n",
              "std         0.843868          0.100795     0.121020        5.072058   \n",
              "min         3.800000          0.080000     0.000000        0.600000   \n",
              "25%         6.300000          0.210000     0.270000        1.700000   \n",
              "50%         6.800000          0.260000     0.320000        5.200000   \n",
              "75%         7.300000          0.320000     0.390000        9.900000   \n",
              "max        14.200000          1.100000     1.660000       65.800000   \n",
              "\n",
              "         chlorides  free_sulfur_dioxide  total_sulfur_dioxide      density  \\\n",
              "count  4898.000000          4898.000000           4898.000000  4898.000000   \n",
              "mean      0.045772            35.308085            138.360657     0.994027   \n",
              "std       0.021848            17.007137             42.498065     0.002991   \n",
              "min       0.009000             2.000000              9.000000     0.987110   \n",
              "25%       0.036000            23.000000            108.000000     0.991723   \n",
              "50%       0.043000            34.000000            134.000000     0.993740   \n",
              "75%       0.050000            46.000000            167.000000     0.996100   \n",
              "max       0.346000           289.000000            440.000000     1.038980   \n",
              "\n",
              "                pH    sulphates      alcohol      quality  \n",
              "count  4898.000000  4898.000000  4898.000000  4898.000000  \n",
              "mean      3.188267     0.489847    10.514267     5.877909  \n",
              "std       0.151001     0.114126     1.230621     0.885639  \n",
              "min       2.720000     0.220000     8.000000     3.000000  \n",
              "25%       3.090000     0.410000     9.500000     5.000000  \n",
              "50%       3.180000     0.470000    10.400000     6.000000  \n",
              "75%       3.280000     0.550000    11.400000     6.000000  \n",
              "max       3.820000     1.080000    14.200000     9.000000  "
            ],
            "text/html": [
              "\n",
              "  <div id=\"df-fa8b1322-b4a5-4467-8ab5-5716de188e85\" class=\"colab-df-container\">\n",
              "    <div>\n",
              "<style scoped>\n",
              "    .dataframe tbody tr th:only-of-type {\n",
              "        vertical-align: middle;\n",
              "    }\n",
              "\n",
              "    .dataframe tbody tr th {\n",
              "        vertical-align: top;\n",
              "    }\n",
              "\n",
              "    .dataframe thead th {\n",
              "        text-align: right;\n",
              "    }\n",
              "</style>\n",
              "<table border=\"1\" class=\"dataframe\">\n",
              "  <thead>\n",
              "    <tr style=\"text-align: right;\">\n",
              "      <th></th>\n",
              "      <th>fixed_acidity</th>\n",
              "      <th>volatile_acidity</th>\n",
              "      <th>citric_acid</th>\n",
              "      <th>residual_sugar</th>\n",
              "      <th>chlorides</th>\n",
              "      <th>free_sulfur_dioxide</th>\n",
              "      <th>total_sulfur_dioxide</th>\n",
              "      <th>density</th>\n",
              "      <th>pH</th>\n",
              "      <th>sulphates</th>\n",
              "      <th>alcohol</th>\n",
              "      <th>quality</th>\n",
              "    </tr>\n",
              "  </thead>\n",
              "  <tbody>\n",
              "    <tr>\n",
              "      <th>count</th>\n",
              "      <td>4898.000000</td>\n",
              "      <td>4898.000000</td>\n",
              "      <td>4898.000000</td>\n",
              "      <td>4898.000000</td>\n",
              "      <td>4898.000000</td>\n",
              "      <td>4898.000000</td>\n",
              "      <td>4898.000000</td>\n",
              "      <td>4898.000000</td>\n",
              "      <td>4898.000000</td>\n",
              "      <td>4898.000000</td>\n",
              "      <td>4898.000000</td>\n",
              "      <td>4898.000000</td>\n",
              "    </tr>\n",
              "    <tr>\n",
              "      <th>mean</th>\n",
              "      <td>6.854788</td>\n",
              "      <td>0.278241</td>\n",
              "      <td>0.334192</td>\n",
              "      <td>6.391415</td>\n",
              "      <td>0.045772</td>\n",
              "      <td>35.308085</td>\n",
              "      <td>138.360657</td>\n",
              "      <td>0.994027</td>\n",
              "      <td>3.188267</td>\n",
              "      <td>0.489847</td>\n",
              "      <td>10.514267</td>\n",
              "      <td>5.877909</td>\n",
              "    </tr>\n",
              "    <tr>\n",
              "      <th>std</th>\n",
              "      <td>0.843868</td>\n",
              "      <td>0.100795</td>\n",
              "      <td>0.121020</td>\n",
              "      <td>5.072058</td>\n",
              "      <td>0.021848</td>\n",
              "      <td>17.007137</td>\n",
              "      <td>42.498065</td>\n",
              "      <td>0.002991</td>\n",
              "      <td>0.151001</td>\n",
              "      <td>0.114126</td>\n",
              "      <td>1.230621</td>\n",
              "      <td>0.885639</td>\n",
              "    </tr>\n",
              "    <tr>\n",
              "      <th>min</th>\n",
              "      <td>3.800000</td>\n",
              "      <td>0.080000</td>\n",
              "      <td>0.000000</td>\n",
              "      <td>0.600000</td>\n",
              "      <td>0.009000</td>\n",
              "      <td>2.000000</td>\n",
              "      <td>9.000000</td>\n",
              "      <td>0.987110</td>\n",
              "      <td>2.720000</td>\n",
              "      <td>0.220000</td>\n",
              "      <td>8.000000</td>\n",
              "      <td>3.000000</td>\n",
              "    </tr>\n",
              "    <tr>\n",
              "      <th>25%</th>\n",
              "      <td>6.300000</td>\n",
              "      <td>0.210000</td>\n",
              "      <td>0.270000</td>\n",
              "      <td>1.700000</td>\n",
              "      <td>0.036000</td>\n",
              "      <td>23.000000</td>\n",
              "      <td>108.000000</td>\n",
              "      <td>0.991723</td>\n",
              "      <td>3.090000</td>\n",
              "      <td>0.410000</td>\n",
              "      <td>9.500000</td>\n",
              "      <td>5.000000</td>\n",
              "    </tr>\n",
              "    <tr>\n",
              "      <th>50%</th>\n",
              "      <td>6.800000</td>\n",
              "      <td>0.260000</td>\n",
              "      <td>0.320000</td>\n",
              "      <td>5.200000</td>\n",
              "      <td>0.043000</td>\n",
              "      <td>34.000000</td>\n",
              "      <td>134.000000</td>\n",
              "      <td>0.993740</td>\n",
              "      <td>3.180000</td>\n",
              "      <td>0.470000</td>\n",
              "      <td>10.400000</td>\n",
              "      <td>6.000000</td>\n",
              "    </tr>\n",
              "    <tr>\n",
              "      <th>75%</th>\n",
              "      <td>7.300000</td>\n",
              "      <td>0.320000</td>\n",
              "      <td>0.390000</td>\n",
              "      <td>9.900000</td>\n",
              "      <td>0.050000</td>\n",
              "      <td>46.000000</td>\n",
              "      <td>167.000000</td>\n",
              "      <td>0.996100</td>\n",
              "      <td>3.280000</td>\n",
              "      <td>0.550000</td>\n",
              "      <td>11.400000</td>\n",
              "      <td>6.000000</td>\n",
              "    </tr>\n",
              "    <tr>\n",
              "      <th>max</th>\n",
              "      <td>14.200000</td>\n",
              "      <td>1.100000</td>\n",
              "      <td>1.660000</td>\n",
              "      <td>65.800000</td>\n",
              "      <td>0.346000</td>\n",
              "      <td>289.000000</td>\n",
              "      <td>440.000000</td>\n",
              "      <td>1.038980</td>\n",
              "      <td>3.820000</td>\n",
              "      <td>1.080000</td>\n",
              "      <td>14.200000</td>\n",
              "      <td>9.000000</td>\n",
              "    </tr>\n",
              "  </tbody>\n",
              "</table>\n",
              "</div>\n",
              "    <div class=\"colab-df-buttons\">\n",
              "\n",
              "  <div class=\"colab-df-container\">\n",
              "    <button class=\"colab-df-convert\" onclick=\"convertToInteractive('df-fa8b1322-b4a5-4467-8ab5-5716de188e85')\"\n",
              "            title=\"Convert this dataframe to an interactive table.\"\n",
              "            style=\"display:none;\">\n",
              "\n",
              "  <svg xmlns=\"http://www.w3.org/2000/svg\" height=\"24px\" viewBox=\"0 -960 960 960\">\n",
              "    <path d=\"M120-120v-720h720v720H120Zm60-500h600v-160H180v160Zm220 220h160v-160H400v160Zm0 220h160v-160H400v160ZM180-400h160v-160H180v160Zm440 0h160v-160H620v160ZM180-180h160v-160H180v160Zm440 0h160v-160H620v160Z\"/>\n",
              "  </svg>\n",
              "    </button>\n",
              "\n",
              "  <style>\n",
              "    .colab-df-container {\n",
              "      display:flex;\n",
              "      gap: 12px;\n",
              "    }\n",
              "\n",
              "    .colab-df-convert {\n",
              "      background-color: #E8F0FE;\n",
              "      border: none;\n",
              "      border-radius: 50%;\n",
              "      cursor: pointer;\n",
              "      display: none;\n",
              "      fill: #1967D2;\n",
              "      height: 32px;\n",
              "      padding: 0 0 0 0;\n",
              "      width: 32px;\n",
              "    }\n",
              "\n",
              "    .colab-df-convert:hover {\n",
              "      background-color: #E2EBFA;\n",
              "      box-shadow: 0px 1px 2px rgba(60, 64, 67, 0.3), 0px 1px 3px 1px rgba(60, 64, 67, 0.15);\n",
              "      fill: #174EA6;\n",
              "    }\n",
              "\n",
              "    .colab-df-buttons div {\n",
              "      margin-bottom: 4px;\n",
              "    }\n",
              "\n",
              "    [theme=dark] .colab-df-convert {\n",
              "      background-color: #3B4455;\n",
              "      fill: #D2E3FC;\n",
              "    }\n",
              "\n",
              "    [theme=dark] .colab-df-convert:hover {\n",
              "      background-color: #434B5C;\n",
              "      box-shadow: 0px 1px 3px 1px rgba(0, 0, 0, 0.15);\n",
              "      filter: drop-shadow(0px 1px 2px rgba(0, 0, 0, 0.3));\n",
              "      fill: #FFFFFF;\n",
              "    }\n",
              "  </style>\n",
              "\n",
              "    <script>\n",
              "      const buttonEl =\n",
              "        document.querySelector('#df-fa8b1322-b4a5-4467-8ab5-5716de188e85 button.colab-df-convert');\n",
              "      buttonEl.style.display =\n",
              "        google.colab.kernel.accessAllowed ? 'block' : 'none';\n",
              "\n",
              "      async function convertToInteractive(key) {\n",
              "        const element = document.querySelector('#df-fa8b1322-b4a5-4467-8ab5-5716de188e85');\n",
              "        const dataTable =\n",
              "          await google.colab.kernel.invokeFunction('convertToInteractive',\n",
              "                                                    [key], {});\n",
              "        if (!dataTable) return;\n",
              "\n",
              "        const docLinkHtml = 'Like what you see? Visit the ' +\n",
              "          '<a target=\"_blank\" href=https://colab.research.google.com/notebooks/data_table.ipynb>data table notebook</a>'\n",
              "          + ' to learn more about interactive tables.';\n",
              "        element.innerHTML = '';\n",
              "        dataTable['output_type'] = 'display_data';\n",
              "        await google.colab.output.renderOutput(dataTable, element);\n",
              "        const docLink = document.createElement('div');\n",
              "        docLink.innerHTML = docLinkHtml;\n",
              "        element.appendChild(docLink);\n",
              "      }\n",
              "    </script>\n",
              "  </div>\n",
              "\n",
              "\n",
              "<div id=\"df-4eb87b9a-9255-4883-afaa-0991ea00a3c2\">\n",
              "  <button class=\"colab-df-quickchart\" onclick=\"quickchart('df-4eb87b9a-9255-4883-afaa-0991ea00a3c2')\"\n",
              "            title=\"Suggest charts.\"\n",
              "            style=\"display:none;\">\n",
              "\n",
              "<svg xmlns=\"http://www.w3.org/2000/svg\" height=\"24px\"viewBox=\"0 0 24 24\"\n",
              "     width=\"24px\">\n",
              "    <g>\n",
              "        <path d=\"M19 3H5c-1.1 0-2 .9-2 2v14c0 1.1.9 2 2 2h14c1.1 0 2-.9 2-2V5c0-1.1-.9-2-2-2zM9 17H7v-7h2v7zm4 0h-2V7h2v10zm4 0h-2v-4h2v4z\"/>\n",
              "    </g>\n",
              "</svg>\n",
              "  </button>\n",
              "\n",
              "<style>\n",
              "  .colab-df-quickchart {\n",
              "      --bg-color: #E8F0FE;\n",
              "      --fill-color: #1967D2;\n",
              "      --hover-bg-color: #E2EBFA;\n",
              "      --hover-fill-color: #174EA6;\n",
              "      --disabled-fill-color: #AAA;\n",
              "      --disabled-bg-color: #DDD;\n",
              "  }\n",
              "\n",
              "  [theme=dark] .colab-df-quickchart {\n",
              "      --bg-color: #3B4455;\n",
              "      --fill-color: #D2E3FC;\n",
              "      --hover-bg-color: #434B5C;\n",
              "      --hover-fill-color: #FFFFFF;\n",
              "      --disabled-bg-color: #3B4455;\n",
              "      --disabled-fill-color: #666;\n",
              "  }\n",
              "\n",
              "  .colab-df-quickchart {\n",
              "    background-color: var(--bg-color);\n",
              "    border: none;\n",
              "    border-radius: 50%;\n",
              "    cursor: pointer;\n",
              "    display: none;\n",
              "    fill: var(--fill-color);\n",
              "    height: 32px;\n",
              "    padding: 0;\n",
              "    width: 32px;\n",
              "  }\n",
              "\n",
              "  .colab-df-quickchart:hover {\n",
              "    background-color: var(--hover-bg-color);\n",
              "    box-shadow: 0 1px 2px rgba(60, 64, 67, 0.3), 0 1px 3px 1px rgba(60, 64, 67, 0.15);\n",
              "    fill: var(--button-hover-fill-color);\n",
              "  }\n",
              "\n",
              "  .colab-df-quickchart-complete:disabled,\n",
              "  .colab-df-quickchart-complete:disabled:hover {\n",
              "    background-color: var(--disabled-bg-color);\n",
              "    fill: var(--disabled-fill-color);\n",
              "    box-shadow: none;\n",
              "  }\n",
              "\n",
              "  .colab-df-spinner {\n",
              "    border: 2px solid var(--fill-color);\n",
              "    border-color: transparent;\n",
              "    border-bottom-color: var(--fill-color);\n",
              "    animation:\n",
              "      spin 1s steps(1) infinite;\n",
              "  }\n",
              "\n",
              "  @keyframes spin {\n",
              "    0% {\n",
              "      border-color: transparent;\n",
              "      border-bottom-color: var(--fill-color);\n",
              "      border-left-color: var(--fill-color);\n",
              "    }\n",
              "    20% {\n",
              "      border-color: transparent;\n",
              "      border-left-color: var(--fill-color);\n",
              "      border-top-color: var(--fill-color);\n",
              "    }\n",
              "    30% {\n",
              "      border-color: transparent;\n",
              "      border-left-color: var(--fill-color);\n",
              "      border-top-color: var(--fill-color);\n",
              "      border-right-color: var(--fill-color);\n",
              "    }\n",
              "    40% {\n",
              "      border-color: transparent;\n",
              "      border-right-color: var(--fill-color);\n",
              "      border-top-color: var(--fill-color);\n",
              "    }\n",
              "    60% {\n",
              "      border-color: transparent;\n",
              "      border-right-color: var(--fill-color);\n",
              "    }\n",
              "    80% {\n",
              "      border-color: transparent;\n",
              "      border-right-color: var(--fill-color);\n",
              "      border-bottom-color: var(--fill-color);\n",
              "    }\n",
              "    90% {\n",
              "      border-color: transparent;\n",
              "      border-bottom-color: var(--fill-color);\n",
              "    }\n",
              "  }\n",
              "</style>\n",
              "\n",
              "  <script>\n",
              "    async function quickchart(key) {\n",
              "      const quickchartButtonEl =\n",
              "        document.querySelector('#' + key + ' button');\n",
              "      quickchartButtonEl.disabled = true;  // To prevent multiple clicks.\n",
              "      quickchartButtonEl.classList.add('colab-df-spinner');\n",
              "      try {\n",
              "        const charts = await google.colab.kernel.invokeFunction(\n",
              "            'suggestCharts', [key], {});\n",
              "      } catch (error) {\n",
              "        console.error('Error during call to suggestCharts:', error);\n",
              "      }\n",
              "      quickchartButtonEl.classList.remove('colab-df-spinner');\n",
              "      quickchartButtonEl.classList.add('colab-df-quickchart-complete');\n",
              "    }\n",
              "    (() => {\n",
              "      let quickchartButtonEl =\n",
              "        document.querySelector('#df-4eb87b9a-9255-4883-afaa-0991ea00a3c2 button');\n",
              "      quickchartButtonEl.style.display =\n",
              "        google.colab.kernel.accessAllowed ? 'block' : 'none';\n",
              "    })();\n",
              "  </script>\n",
              "</div>\n",
              "    </div>\n",
              "  </div>\n"
            ]
          },
          "metadata": {},
          "execution_count": 5
        }
      ]
    },
    {
      "cell_type": "markdown",
      "source": [
        "There are two things to note here at first glance:\n",
        "\n",
        "*   All of the columns are numeric. That means we won't need to encode it, only normalize the values for model calculations.\n",
        "*   The columns *free_sulfur_dioxide*, *total_sulfur_dioxide* and *residual_sugar* have high standard deviation values. We should investigate that.\n",
        "\n",
        "Before jumping into the column analysis, let's just search for null values and work with them first.\n",
        "\n"
      ],
      "metadata": {
        "id": "VNb0Pl8mauFU"
      }
    },
    {
      "cell_type": "code",
      "source": [
        "# Null values\n",
        "df_white.isna().sum()"
      ],
      "metadata": {
        "colab": {
          "base_uri": "https://localhost:8080/"
        },
        "id": "lUXNKvTea6Oa",
        "outputId": "0614d6bc-c7d6-47a8-9d2d-fd23483713a5"
      },
      "execution_count": 6,
      "outputs": [
        {
          "output_type": "execute_result",
          "data": {
            "text/plain": [
              "fixed_acidity           0\n",
              "volatile_acidity        0\n",
              "citric_acid             0\n",
              "residual_sugar          0\n",
              "chlorides               0\n",
              "free_sulfur_dioxide     0\n",
              "total_sulfur_dioxide    0\n",
              "density                 0\n",
              "pH                      0\n",
              "sulphates               0\n",
              "alcohol                 0\n",
              "quality                 0\n",
              "dtype: int64"
            ]
          },
          "metadata": {},
          "execution_count": 6
        }
      ]
    },
    {
      "cell_type": "markdown",
      "source": [
        "We didn't find any null values, which indicates the data has a good consistency. Now let's look into those columns with high standard deviations."
      ],
      "metadata": {
        "id": "B7JZs9Prc9WD"
      }
    },
    {
      "cell_type": "code",
      "source": [
        "import numpy as np\n",
        "import matplotlib.pyplot as plt\n",
        "import seaborn as sns"
      ],
      "metadata": {
        "id": "lo_I9X4ucm8z"
      },
      "execution_count": 7,
      "outputs": []
    },
    {
      "cell_type": "code",
      "source": [
        "plt.figure(figsize=(10, 6))  # Fig size\n",
        "sns.set(style=\"whitegrid\")  # Plot style\n",
        "\n",
        "sns.boxplot(data=df_white[['residual_sugar', 'free_sulfur_dioxide', 'total_sulfur_dioxide']], palette=\"Set2\")\n",
        "\n",
        "plt.title(\"Colunas com desvio padrão alto\")\n",
        "plt.xlabel(\"Colunas\")\n",
        "plt.ylabel(\"Valores (unidades gerais)\")\n",
        "\n",
        "plt.show()\n"
      ],
      "metadata": {
        "colab": {
          "base_uri": "https://localhost:8080/",
          "height": 574
        },
        "id": "Vhx65YxOd11U",
        "outputId": "b9d992b4-169f-40d9-ee2a-86a0c8a8e4ce"
      },
      "execution_count": 8,
      "outputs": [
        {
          "output_type": "display_data",
          "data": {
            "text/plain": [
              "<Figure size 1000x600 with 1 Axes>"
            ],
            "image/png": "[encoded data removed]"
          },
          "metadata": {}
        }
      ]
    },
    {
      "cell_type": "code",
      "source": [
        "plt.figure(figsize=(10, 6))  # Fig size\n",
        "sns.set(style=\"whitegrid\")  # Plot style\n",
        "\n",
        "df_white_sqrt_copy = df_white.copy()\n",
        "df_white_sqrt_copy['residual_sugar_sqrt'] = np.sqrt(df_white_sqrt_copy['residual_sugar'])\n",
        "df_white_sqrt_copy['free_sulfur_dioxide_sqrt'] = np.sqrt(df_white_sqrt_copy['free_sulfur_dioxide'])\n",
        "df_white_sqrt_copy['total_sulfur_dioxide_sqrt'] = np.sqrt(df_white_sqrt_copy['total_sulfur_dioxide'])\n",
        "sns.boxplot(data=df_white_sqrt_copy[['residual_sugar_sqrt', 'free_sulfur_dioxide_sqrt', 'total_sulfur_dioxide_sqrt']], palette=\"Set2\")\n",
        "\n",
        "plt.title(\"Colunas com desvio padrão alto\")\n",
        "plt.xlabel(\"Colunas\")\n",
        "plt.ylabel(\"Valores (unidades gerais)\")\n",
        "\n",
        "plt.show()\n"
      ],
      "metadata": {
        "colab": {
          "base_uri": "https://localhost:8080/",
          "height": 574
        },
        "id": "CnL8DwdEqdgr",
        "outputId": "3fc6367d-210b-4777-dad4-ff368e40133a"
      },
      "execution_count": 9,
      "outputs": [
        {
          "output_type": "display_data",
          "data": {
            "text/plain": [
              "<Figure size 1000x600 with 1 Axes>"
            ],
            "image/png": "[encoded data removed]"
          },
          "metadata": {}
        }
      ]
    },
    {
      "cell_type": "markdown",
      "source": [
        "As we can see, these columns have some outliers. There is a possibility that these outlier values indicate some specific variant of wine.\n",
        "\n",
        "There are several strategies for dealing with outliers. Let's see how many rows contain outlier values for these columns. If the total number isn't high to the point of damaging our model development, we will keep the rows to help with generalization. Otherwise, we might fill those values with other values, such as mean or median."
      ],
      "metadata": {
        "id": "eoUTVbLKgVlD"
      }
    },
    {
      "cell_type": "code",
      "source": [
        "# Select the columns of interest\n",
        "columns_of_interest = ['residual_sugar', 'free_sulfur_dioxide', 'total_sulfur_dioxide']\n",
        "\n",
        "# Function to count outliers\n",
        "def count_outliers(column):\n",
        "    Q1 = column.quantile(0.25)\n",
        "    Q3 = column.quantile(0.75)\n",
        "    IQR = Q3 - Q1\n",
        "    return ((column < (Q1 - 1.5 * IQR)) | (column > (Q3 + 1.5 * IQR))).sum()\n",
        "\n",
        "# Create a dictionary to store the number of outliers per column\n",
        "outliers_per_column = {}\n",
        "\n",
        "# Iterate over the columns of interest\n",
        "for column in columns_of_interest:\n",
        "    outliers_per_column[column] = count_outliers(df_white[column])\n",
        "\n",
        "print(outliers_per_column)"
      ],
      "metadata": {
        "colab": {
          "base_uri": "https://localhost:8080/"
        },
        "id": "RIOnaJuVgU9Q",
        "outputId": "8a54c6ba-0680-43b7-f7e8-7e493faccdd2"
      },
      "execution_count": 10,
      "outputs": [
        {
          "output_type": "stream",
          "name": "stdout",
          "text": [
            "{'residual_sugar': 7, 'free_sulfur_dioxide': 50, 'total_sulfur_dioxide': 19}\n"
          ]
        }
      ]
    },
    {
      "cell_type": "markdown",
      "source": [
        "The outliers in those columns make about 1% of the total volume of data, which means there is no need to remove those rows."
      ],
      "metadata": {
        "id": "LrE7pZzyiTlN"
      }
    },
    {
      "cell_type": "markdown",
      "source": [
        "The quality variable is our target. Despite being a numerical value, we will treat it as multiclass. In theory, the values could range from 1 to 10, but we must keep in mind these grades are given by humans. Typically, humans tend to keep values in a \"standard\" range. This is probably why most of the records have a grade of 5 or 6, with a slight tendency to go up."
      ],
      "metadata": {
        "id": "K6E9vdyo3-2r"
      }
    },
    {
      "cell_type": "code",
      "source": [
        "df_white['quality'].value_counts()"
      ],
      "metadata": {
        "id": "DZgumUOCSZJH",
        "outputId": "b43a3dc2-a7f8-4fa8-e0b5-85ca0a1e2780",
        "colab": {
          "base_uri": "https://localhost:8080/"
        }
      },
      "execution_count": 11,
      "outputs": [
        {
          "output_type": "execute_result",
          "data": {
            "text/plain": [
              "6    2198\n",
              "5    1457\n",
              "7     880\n",
              "8     175\n",
              "4     163\n",
              "3      20\n",
              "9       5\n",
              "Name: quality, dtype: int64"
            ]
          },
          "metadata": {},
          "execution_count": 11
        }
      ]
    },
    {
      "cell_type": "markdown",
      "source": [
        "## 2. Data preparation"
      ],
      "metadata": {
        "id": "cLT5u-y4Peke"
      }
    },
    {
      "cell_type": "markdown",
      "source": [
        "We made a brief exploration of the data regarding null values and outliers. There is much more that could be done in the past phase, but that's for another time. Now, let's prepare the data and get it ready to be used in the ML models. We will perform a data normalization, which will rescale the numeric values of different units to a similar range. We will use Standard Scaler."
      ],
      "metadata": {
        "id": "VL87CARyPhoy"
      }
    },
    {
      "cell_type": "code",
      "source": [
        "df_white.head()"
      ],
      "metadata": {
        "id": "wr8dDigumxXG",
        "colab": {
          "base_uri": "https://localhost:8080/",
          "height": 206
        },
        "outputId": "131535d7-fc6f-486d-bd69-72247f3c8418"
      },
      "execution_count": 12,
      "outputs": [
        {
          "output_type": "execute_result",
          "data": {
            "text/plain": [
              "   fixed_acidity  volatile_acidity  citric_acid  residual_sugar  chlorides  \\\n",
              "0            7.0              0.27         0.36            20.7      0.045   \n",
              "1            6.3              0.30         0.34             1.6      0.049   \n",
              "2            8.1              0.28         0.40             6.9      0.050   \n",
              "3            7.2              0.23         0.32             8.5      0.058   \n",
              "4            7.2              0.23         0.32             8.5      0.058   \n",
              "\n",
              "   free_sulfur_dioxide  total_sulfur_dioxide  density    pH  sulphates  \\\n",
              "0                 45.0                 170.0   1.0010  3.00       0.45   \n",
              "1                 14.0                 132.0   0.9940  3.30       0.49   \n",
              "2                 30.0                  97.0   0.9951  3.26       0.44   \n",
              "3                 47.0                 186.0   0.9956  3.19       0.40   \n",
              "4                 47.0                 186.0   0.9956  3.19       0.40   \n",
              "\n",
              "   alcohol  quality  \n",
              "0      8.8        6  \n",
              "1      9.5        6  \n",
              "2     10.1        6  \n",
              "3      9.9        6  \n",
              "4      9.9        6  "
            ],
            "text/html": [
              "\n",
              "  <div id=\"df-b81cb79f-1eed-4bf2-9014-93a76ecfc713\" class=\"colab-df-container\">\n",
              "    <div>\n",
              "<style scoped>\n",
              "    .dataframe tbody tr th:only-of-type {\n",
              "        vertical-align: middle;\n",
              "    }\n",
              "\n",
              "    .dataframe tbody tr th {\n",
              "        vertical-align: top;\n",
              "    }\n",
              "\n",
              "    .dataframe thead th {\n",
              "        text-align: right;\n",
              "    }\n",
              "</style>\n",
              "<table border=\"1\" class=\"dataframe\">\n",
              "  <thead>\n",
              "    <tr style=\"text-align: right;\">\n",
              "      <th></th>\n",
              "      <th>fixed_acidity</th>\n",
              "      <th>volatile_acidity</th>\n",
              "      <th>citric_acid</th>\n",
              "      <th>residual_sugar</th>\n",
              "      <th>chlorides</th>\n",
              "      <th>free_sulfur_dioxide</th>\n",
              "      <th>total_sulfur_dioxide</th>\n",
              "      <th>density</th>\n",
              "      <th>pH</th>\n",
              "      <th>sulphates</th>\n",
              "      <th>alcohol</th>\n",
              "      <th>quality</th>\n",
              "    </tr>\n",
              "  </thead>\n",
              "  <tbody>\n",
              "    <tr>\n",
              "      <th>0</th>\n",
              "      <td>7.0</td>\n",
              "      <td>0.27</td>\n",
              "      <td>0.36</td>\n",
              "      <td>20.7</td>\n",
              "      <td>0.045</td>\n",
              "      <td>45.0</td>\n",
              "      <td>170.0</td>\n",
              "      <td>1.0010</td>\n",
              "      <td>3.00</td>\n",
              "      <td>0.45</td>\n",
              "      <td>8.8</td>\n",
              "      <td>6</td>\n",
              "    </tr>\n",
              "    <tr>\n",
              "      <th>1</th>\n",
              "      <td>6.3</td>\n",
              "      <td>0.30</td>\n",
              "      <td>0.34</td>\n",
              "      <td>1.6</td>\n",
              "      <td>0.049</td>\n",
              "      <td>14.0</td>\n",
              "      <td>132.0</td>\n",
              "      <td>0.9940</td>\n",
              "      <td>3.30</td>\n",
              "      <td>0.49</td>\n",
              "      <td>9.5</td>\n",
              "      <td>6</td>\n",
              "    </tr>\n",
              "    <tr>\n",
              "      <th>2</th>\n",
              "      <td>8.1</td>\n",
              "      <td>0.28</td>\n",
              "      <td>0.40</td>\n",
              "      <td>6.9</td>\n",
              "      <td>0.050</td>\n",
              "      <td>30.0</td>\n",
              "      <td>97.0</td>\n",
              "      <td>0.9951</td>\n",
              "      <td>3.26</td>\n",
              "      <td>0.44</td>\n",
              "      <td>10.1</td>\n",
              "      <td>6</td>\n",
              "    </tr>\n",
              "    <tr>\n",
              "      <th>3</th>\n",
              "      <td>7.2</td>\n",
              "      <td>0.23</td>\n",
              "      <td>0.32</td>\n",
              "      <td>8.5</td>\n",
              "      <td>0.058</td>\n",
              "      <td>47.0</td>\n",
              "      <td>186.0</td>\n",
              "      <td>0.9956</td>\n",
              "      <td>3.19</td>\n",
              "      <td>0.40</td>\n",
              "      <td>9.9</td>\n",
              "      <td>6</td>\n",
              "    </tr>\n",
              "    <tr>\n",
              "      <th>4</th>\n",
              "      <td>7.2</td>\n",
              "      <td>0.23</td>\n",
              "      <td>0.32</td>\n",
              "      <td>8.5</td>\n",
              "      <td>0.058</td>\n",
              "      <td>47.0</td>\n",
              "      <td>186.0</td>\n",
              "      <td>0.9956</td>\n",
              "      <td>3.19</td>\n",
              "      <td>0.40</td>\n",
              "      <td>9.9</td>\n",
              "      <td>6</td>\n",
              "    </tr>\n",
              "  </tbody>\n",
              "</table>\n",
              "</div>\n",
              "    <div class=\"colab-df-buttons\">\n",
              "\n",
              "  <div class=\"colab-df-container\">\n",
              "    <button class=\"colab-df-convert\" onclick=\"convertToInteractive('df-b81cb79f-1eed-4bf2-9014-93a76ecfc713')\"\n",
              "            title=\"Convert this dataframe to an interactive table.\"\n",
              "            style=\"display:none;\">\n",
              "\n",
              "  <svg xmlns=\"http://www.w3.org/2000/svg\" height=\"24px\" viewBox=\"0 -960 960 960\">\n",
              "    <path d=\"M120-120v-720h720v720H120Zm60-500h600v-160H180v160Zm220 220h160v-160H400v160Zm0 220h160v-160H400v160ZM180-400h160v-160H180v160Zm440 0h160v-160H620v160ZM180-180h160v-160H180v160Zm440 0h160v-160H620v160Z\"/>\n",
              "  </svg>\n",
              "    </button>\n",
              "\n",
              "  <style>\n",
              "    .colab-df-container {\n",
              "      display:flex;\n",
              "      gap: 12px;\n",
              "    }\n",
              "\n",
              "    .colab-df-convert {\n",
              "      background-color: #E8F0FE;\n",
              "      border: none;\n",
              "      border-radius: 50%;\n",
              "      cursor: pointer;\n",
              "      display: none;\n",
              "      fill: #1967D2;\n",
              "      height: 32px;\n",
              "      padding: 0 0 0 0;\n",
              "      width: 32px;\n",
              "    }\n",
              "\n",
              "    .colab-df-convert:hover {\n",
              "      background-color: #E2EBFA;\n",
              "      box-shadow: 0px 1px 2px rgba(60, 64, 67, 0.3), 0px 1px 3px 1px rgba(60, 64, 67, 0.15);\n",
              "      fill: #174EA6;\n",
              "    }\n",
              "\n",
              "    .colab-df-buttons div {\n",
              "      margin-bottom: 4px;\n",
              "    }\n",
              "\n",
              "    [theme=dark] .colab-df-convert {\n",
              "      background-color: #3B4455;\n",
              "      fill: #D2E3FC;\n",
              "    }\n",
              "\n",
              "    [theme=dark] .colab-df-convert:hover {\n",
              "      background-color: #434B5C;\n",
              "      box-shadow: 0px 1px 3px 1px rgba(0, 0, 0, 0.15);\n",
              "      filter: drop-shadow(0px 1px 2px rgba(0, 0, 0, 0.3));\n",
              "      fill: #FFFFFF;\n",
              "    }\n",
              "  </style>\n",
              "\n",
              "    <script>\n",
              "      const buttonEl =\n",
              "        document.querySelector('#df-b81cb79f-1eed-4bf2-9014-93a76ecfc713 button.colab-df-convert');\n",
              "      buttonEl.style.display =\n",
              "        google.colab.kernel.accessAllowed ? 'block' : 'none';\n",
              "\n",
              "      async function convertToInteractive(key) {\n",
              "        const element = document.querySelector('#df-b81cb79f-1eed-4bf2-9014-93a76ecfc713');\n",
              "        const dataTable =\n",
              "          await google.colab.kernel.invokeFunction('convertToInteractive',\n",
              "                                                    [key], {});\n",
              "        if (!dataTable) return;\n",
              "\n",
              "        const docLinkHtml = 'Like what you see? Visit the ' +\n",
              "          '<a target=\"_blank\" href=https://colab.research.google.com/notebooks/data_table.ipynb>data table notebook</a>'\n",
              "          + ' to learn more about interactive tables.';\n",
              "        element.innerHTML = '';\n",
              "        dataTable['output_type'] = 'display_data';\n",
              "        await google.colab.output.renderOutput(dataTable, element);\n",
              "        const docLink = document.createElement('div');\n",
              "        docLink.innerHTML = docLinkHtml;\n",
              "        element.appendChild(docLink);\n",
              "      }\n",
              "    </script>\n",
              "  </div>\n",
              "\n",
              "\n",
              "<div id=\"df-d795d707-0306-480d-8d5f-6335096a6097\">\n",
              "  <button class=\"colab-df-quickchart\" onclick=\"quickchart('df-d795d707-0306-480d-8d5f-6335096a6097')\"\n",
              "            title=\"Suggest charts.\"\n",
              "            style=\"display:none;\">\n",
              "\n",
              "<svg xmlns=\"http://www.w3.org/2000/svg\" height=\"24px\"viewBox=\"0 0 24 24\"\n",
              "     width=\"24px\">\n",
              "    <g>\n",
              "        <path d=\"M19 3H5c-1.1 0-2 .9-2 2v14c0 1.1.9 2 2 2h14c1.1 0 2-.9 2-2V5c0-1.1-.9-2-2-2zM9 17H7v-7h2v7zm4 0h-2V7h2v10zm4 0h-2v-4h2v4z\"/>\n",
              "    </g>\n",
              "</svg>\n",
              "  </button>\n",
              "\n",
              "<style>\n",
              "  .colab-df-quickchart {\n",
              "      --bg-color: #E8F0FE;\n",
              "      --fill-color: #1967D2;\n",
              "      --hover-bg-color: #E2EBFA;\n",
              "      --hover-fill-color: #174EA6;\n",
              "      --disabled-fill-color: #AAA;\n",
              "      --disabled-bg-color: #DDD;\n",
              "  }\n",
              "\n",
              "  [theme=dark] .colab-df-quickchart {\n",
              "      --bg-color: #3B4455;\n",
              "      --fill-color: #D2E3FC;\n",
              "      --hover-bg-color: #434B5C;\n",
              "      --hover-fill-color: #FFFFFF;\n",
              "      --disabled-bg-color: #3B4455;\n",
              "      --disabled-fill-color: #666;\n",
              "  }\n",
              "\n",
              "  .colab-df-quickchart {\n",
              "    background-color: var(--bg-color);\n",
              "    border: none;\n",
              "    border-radius: 50%;\n",
              "    cursor: pointer;\n",
              "    display: none;\n",
              "    fill: var(--fill-color);\n",
              "    height: 32px;\n",
              "    padding: 0;\n",
              "    width: 32px;\n",
              "  }\n",
              "\n",
              "  .colab-df-quickchart:hover {\n",
              "    background-color: var(--hover-bg-color);\n",
              "    box-shadow: 0 1px 2px rgba(60, 64, 67, 0.3), 0 1px 3px 1px rgba(60, 64, 67, 0.15);\n",
              "    fill: var(--button-hover-fill-color);\n",
              "  }\n",
              "\n",
              "  .colab-df-quickchart-complete:disabled,\n",
              "  .colab-df-quickchart-complete:disabled:hover {\n",
              "    background-color: var(--disabled-bg-color);\n",
              "    fill: var(--disabled-fill-color);\n",
              "    box-shadow: none;\n",
              "  }\n",
              "\n",
              "  .colab-df-spinner {\n",
              "    border: 2px solid var(--fill-color);\n",
              "    border-color: transparent;\n",
              "    border-bottom-color: var(--fill-color);\n",
              "    animation:\n",
              "      spin 1s steps(1) infinite;\n",
              "  }\n",
              "\n",
              "  @keyframes spin {\n",
              "    0% {\n",
              "      border-color: transparent;\n",
              "      border-bottom-color: var(--fill-color);\n",
              "      border-left-color: var(--fill-color);\n",
              "    }\n",
              "    20% {\n",
              "      border-color: transparent;\n",
              "      border-left-color: var(--fill-color);\n",
              "      border-top-color: var(--fill-color);\n",
              "    }\n",
              "    30% {\n",
              "      border-color: transparent;\n",
              "      border-left-color: var(--fill-color);\n",
              "      border-top-color: var(--fill-color);\n",
              "      border-right-color: var(--fill-color);\n",
              "    }\n",
              "    40% {\n",
              "      border-color: transparent;\n",
              "      border-right-color: var(--fill-color);\n",
              "      border-top-color: var(--fill-color);\n",
              "    }\n",
              "    60% {\n",
              "      border-color: transparent;\n",
              "      border-right-color: var(--fill-color);\n",
              "    }\n",
              "    80% {\n",
              "      border-color: transparent;\n",
              "      border-right-color: var(--fill-color);\n",
              "      border-bottom-color: var(--fill-color);\n",
              "    }\n",
              "    90% {\n",
              "      border-color: transparent;\n",
              "      border-bottom-color: var(--fill-color);\n",
              "    }\n",
              "  }\n",
              "</style>\n",
              "\n",
              "  <script>\n",
              "    async function quickchart(key) {\n",
              "      const quickchartButtonEl =\n",
              "        document.querySelector('#' + key + ' button');\n",
              "      quickchartButtonEl.disabled = true;  // To prevent multiple clicks.\n",
              "      quickchartButtonEl.classList.add('colab-df-spinner');\n",
              "      try {\n",
              "        const charts = await google.colab.kernel.invokeFunction(\n",
              "            'suggestCharts', [key], {});\n",
              "      } catch (error) {\n",
              "        console.error('Error during call to suggestCharts:', error);\n",
              "      }\n",
              "      quickchartButtonEl.classList.remove('colab-df-spinner');\n",
              "      quickchartButtonEl.classList.add('colab-df-quickchart-complete');\n",
              "    }\n",
              "    (() => {\n",
              "      let quickchartButtonEl =\n",
              "        document.querySelector('#df-d795d707-0306-480d-8d5f-6335096a6097 button');\n",
              "      quickchartButtonEl.style.display =\n",
              "        google.colab.kernel.accessAllowed ? 'block' : 'none';\n",
              "    })();\n",
              "  </script>\n",
              "</div>\n",
              "    </div>\n",
              "  </div>\n"
            ]
          },
          "metadata": {},
          "execution_count": 12
        }
      ]
    },
    {
      "cell_type": "code",
      "source": [
        "from sklearn.model_selection import train_test_split\n",
        "from sklearn.preprocessing import StandardScaler\n",
        "from sklearn.impute import SimpleImputer\n",
        "from sklearn.pipeline import Pipeline\n",
        "from sklearn.svm import SVC\n",
        "from sklearn.neural_network import MLPClassifier\n",
        "from sklearn.ensemble import GradientBoostingClassifier\n",
        "from sklearn.metrics import f1_score"
      ],
      "metadata": {
        "id": "vyAw9yN1RIko"
      },
      "execution_count": 39,
      "outputs": []
    },
    {
      "cell_type": "code",
      "source": [
        "X = df_white.loc[:, df_white.columns != \"quality\"]\n",
        "y = df_white.quality"
      ],
      "metadata": {
        "id": "vQFtOLf06SEk"
      },
      "execution_count": 35,
      "outputs": []
    },
    {
      "cell_type": "code",
      "source": [
        "X_train, X_test, y_train, y_test = train_test_split(X, y, train_size=0.7)"
      ],
      "metadata": {
        "id": "VwlcLEpL6W2U"
      },
      "execution_count": 24,
      "outputs": []
    },
    {
      "cell_type": "markdown",
      "source": [
        "Even though we have no missing values in the data currently being used, it's a good practice to implement a generalistic preprocessing method. In this case, the pipeline is a study and won't receive new data after this, but in the real world we must be prepared."
      ],
      "metadata": {
        "id": "vgyxHNLJmNg5"
      }
    },
    {
      "cell_type": "code",
      "source": [
        "preprocess_pipe = Pipeline([\n",
        "    ('imputer', SimpleImputer(strategy='mean')),\n",
        "    ('scaler', StandardScaler())\n",
        "])"
      ],
      "metadata": {
        "id": "LL7MBYUvlf79"
      },
      "execution_count": 25,
      "outputs": []
    },
    {
      "cell_type": "markdown",
      "source": [
        "First of all, we will run three selected baseline models. Then, we will evaluate them and perform feature selection and tune each model's hyperparameters."
      ],
      "metadata": {
        "id": "ORgALZ1ckEaO"
      }
    },
    {
      "cell_type": "code",
      "source": [
        "models = [\n",
        "    SVC()\n",
        "    ,MLPClassifier()\n",
        "    ,GradientBoostingClassifier()\n",
        "]"
      ],
      "metadata": {
        "id": "s5YN5b9VuQSo"
      },
      "execution_count": 26,
      "outputs": []
    },
    {
      "cell_type": "code",
      "source": [
        "for model in models:\n",
        "  pipe = Pipeline([('preprocess_pipe', preprocess_pipe), (f'{type(model).__name__}', model)])\n",
        "  pipe.fit(X_train, y_train)\n",
        "  y_pred = pipe.predict(X_test)\n",
        "  f1 = f1_score(y_test, y_pred, average='macro')\n",
        "  print(f'Model: {type(model).__name__}\\n', f'Pipe score: {pipe.score(X_test, y_test)}\\n', f'F1_Score: {f1}\\n')\n",
        "  print('=======================================')"
      ],
      "metadata": {
        "id": "F8MkZ1nj9Rqc",
        "colab": {
          "base_uri": "https://localhost:8080/"
        },
        "outputId": "4576b410-d3b4-426a-898f-f611639a7d1b"
      },
      "execution_count": 49,
      "outputs": [
        {
          "output_type": "stream",
          "name": "stdout",
          "text": [
            "Model: SVC\n",
            " Pipe score: 0.5571428571428572\n",
            " F1_Score: 0.22785260156050754\n",
            "\n",
            "=======================================\n"
          ]
        },
        {
          "output_type": "stream",
          "name": "stderr",
          "text": [
            "/usr/local/lib/python3.10/dist-packages/sklearn/neural_network/_multilayer_perceptron.py:686: ConvergenceWarning: Stochastic Optimizer: Maximum iterations (200) reached and the optimization hasn't converged yet.\n",
            "  warnings.warn(\n"
          ]
        },
        {
          "output_type": "stream",
          "name": "stdout",
          "text": [
            "Model: MLPClassifier\n",
            " Pipe score: 0.5489795918367347\n",
            " F1_Score: 0.2683494093646758\n",
            "\n",
            "=======================================\n",
            "Model: GradientBoostingClassifier\n",
            " Pipe score: 0.5945578231292517\n",
            " F1_Score: 0.3474540425169737\n",
            "\n",
            "=======================================\n"
          ]
        }
      ]
    },
    {
      "cell_type": "markdown",
      "source": [
        "All of the baseline models perform above 50% when looking at the pipeline score, which is already better than random. For now, GradientBoostingClassifier takes the lead, but they are all still far from good. Let's perform a feature selection process."
      ],
      "metadata": {
        "id": "biVIxKdckU8G"
      }
    },
    {
      "cell_type": "code",
      "source": [
        "from sklearn.feature_selection import SelectKBest, chi2"
      ],
      "metadata": {
        "id": "N84WLzcStUio"
      },
      "execution_count": 28,
      "outputs": []
    },
    {
      "cell_type": "code",
      "source": [
        "# Define the number of features you want to select (k)\n",
        "k = 'all'\n",
        "\n",
        "# Initialize SelectKBest with chi2\n",
        "selector = SelectKBest(chi2, k=k)\n",
        "X_new = selector.fit_transform(X, y)\n",
        "\n",
        "# Get the selected features\n",
        "selected_features = selector.get_support()\n",
        "\n",
        "# Get original column names\n",
        "original_column_names = X.columns[selected_features]\n",
        "\n",
        "# Get the scores of the selected features\n",
        "feature_scores = selector.scores_[selected_features]\n",
        "\n",
        "# Plot the feature scores\n",
        "plt.figure(figsize=(10, 6))\n",
        "plt.bar(original_column_names, feature_scores, color='blue')\n",
        "plt.xlabel('Features')\n",
        "plt.ylabel('Chi-squared Scores')\n",
        "plt.title(f'Top {k} Features')\n",
        "plt.xticks(rotation='vertical')\n",
        "plt.show()"
      ],
      "metadata": {
        "colab": {
          "base_uri": "https://localhost:8080/",
          "height": 706
        },
        "id": "U2mgOkYQnZ5I",
        "outputId": "b9ef71fe-b102-41dc-c51d-a2a39b43319a"
      },
      "execution_count": 36,
      "outputs": [
        {
          "output_type": "display_data",
          "data": {
            "text/plain": [
              "<Figure size 1000x600 with 1 Axes>"
            ],
            "image/png": "[encoded data removed]"
          },
          "metadata": {}
        }
      ]
    },
    {
      "cell_type": "markdown",
      "source": [
        "We can see that *total_sulfur_dioxide*, *free_sulfur_dioxide*, *residual_sugar* and *alcohol* are the features with the highest correlation to the final quality. Let's drop these four features for now in order to have a closer look at the other ones."
      ],
      "metadata": {
        "id": "F8AKfLmQrGHY"
      }
    },
    {
      "cell_type": "code",
      "source": [
        "# Define the number of features you want to select (k)\n",
        "k = 'all'\n",
        "\n",
        "# Initialize SelectKBest with chi2\n",
        "selector = SelectKBest(chi2, k=k)\n",
        "X_copy = X.copy()\n",
        "X_copy = X_copy.drop(columns=['total_sulfur_dioxide', 'free_sulfur_dioxide', 'residual_sugar', 'alcohol'])\n",
        "X_new = selector.fit_transform(X_copy, y)\n",
        "\n",
        "# Get the selected features\n",
        "selected_features = selector.get_support()\n",
        "\n",
        "# Get original column names\n",
        "original_column_names = X_copy.columns[selected_features]\n",
        "\n",
        "# Get the scores of the selected features\n",
        "feature_scores = selector.scores_[selected_features]\n",
        "\n",
        "# Plot the feature scores\n",
        "plt.figure(figsize=(10, 6))\n",
        "plt.bar(original_column_names, feature_scores, color='blue')\n",
        "plt.xlabel('Features')\n",
        "plt.ylabel('Chi-squared Scores')\n",
        "plt.title(f'Top {k} Features')\n",
        "plt.xticks(rotation='vertical')\n",
        "plt.show()"
      ],
      "metadata": {
        "colab": {
          "base_uri": "https://localhost:8080/",
          "height": 672
        },
        "id": "Hoj7KaQPni4A",
        "outputId": "20cd95fc-a543-4be8-9ee6-76c362c6e349"
      },
      "execution_count": 38,
      "outputs": [
        {
          "output_type": "display_data",
          "data": {
            "text/plain": [
              "<Figure size 1000x600 with 1 Axes>"
            ],
            "image/png": "[encoded data removed]"
          },
          "metadata": {}
        }
      ]
    },
    {
      "cell_type": "markdown",
      "source": [
        "Cool, we will remove the \"density\" variable as it doesn't correlate with the target variable at all. We will keep all others, even the ones with small Chi-squared scores, because we don't have a lot of features.\n",
        "\n",
        "Now we will perform a quick, simple hyperparameter tuning using GridSearchCV to find out optimal hyperparameters for our three models."
      ],
      "metadata": {
        "id": "PtkVpb-FuqaG"
      }
    },
    {
      "cell_type": "code",
      "source": [
        "from sklearn.model_selection import GridSearchCV\n",
        "\n",
        "# Define a list of models\n",
        "models = [SVC(), MLPClassifier(), GradientBoostingClassifier()]\n",
        "\n",
        "# Define parameter grids for SVC, MLPClassifier, and GradientBoostingClassifier\n",
        "param_grid_svc = {\n",
        "    'C': [0.1, 1, 10, 100, 1000],\n",
        "    'gamma': [1, 0.1, 0.01, 0.001, 0.0001],\n",
        "    'kernel': ['rbf']\n",
        "}\n",
        "\n",
        "param_grid_mlp = {\n",
        "    'hidden_layer_sizes': [(100,), (50, 50), (50, 100, 50)],\n",
        "    'activation': ['relu', 'tanh'],\n",
        "    'alpha': [0.0001, 0.001, 0.01],\n",
        "    'learning_rate': ['constant', 'invscaling', 'adaptive']\n",
        "}\n",
        "\n",
        "param_grid_gb = {\n",
        "    'n_estimators': [50, 100, 200],\n",
        "    'max_depth': [3, 5, 7]\n",
        "}\n",
        "\n",
        "param_grids = [param_grid_svc, param_grid_mlp, param_grid_gb]\n",
        "\n",
        "for model, param_grid in zip(models, param_grids):\n",
        "    grid = GridSearchCV(model, param_grid, refit=True, verbose=3)\n",
        "    grid.fit(X_train, y_train)\n",
        "\n",
        "    # Print best parameter after tuning\n",
        "    print(f'Best params for {type(model).__name__}: {grid.best_params_}')\n",
        "\n",
        "    # Print how the model looks after hyper-parameter tuning\n",
        "    print(f'Hyparparameters for {type(model).__name__}: {grid.best_estimator_}')"
      ],
      "metadata": {
        "colab": {
          "base_uri": "https://localhost:8080/"
        },
        "id": "hOPs6yjesPkX",
        "outputId": "3ab98aee-c871-44cc-f577-b44c94252893"
      },
      "execution_count": 55,
      "outputs": [
        {
          "output_type": "stream",
          "name": "stdout",
          "text": [
            "Fitting 5 folds for each of 25 candidates, totalling 125 fits\n"
          ]
        },
        {
          "output_type": "stream",
          "name": "stderr",
          "text": [
            "/usr/local/lib/python3.10/dist-packages/sklearn/model_selection/_split.py:700: UserWarning: The least populated class in y has only 3 members, which is less than n_splits=5.\n",
            "  warnings.warn(\n"
          ]
        },
        {
          "output_type": "stream",
          "name": "stdout",
          "text": [
            "[CV 1/5] END ........C=0.1, gamma=1, kernel=rbf;, score=0.453 total time=   1.9s\n",
            "[CV 2/5] END ........C=0.1, gamma=1, kernel=rbf;, score=0.452 total time=   1.3s\n",
            "[CV 3/5] END ........C=0.1, gamma=1, kernel=rbf;, score=0.452 total time=   1.2s\n",
            "[CV 4/5] END ........C=0.1, gamma=1, kernel=rbf;, score=0.453 total time=   1.3s\n",
            "[CV 5/5] END ........C=0.1, gamma=1, kernel=rbf;, score=0.453 total time=   1.4s\n",
            "[CV 1/5] END ......C=0.1, gamma=0.1, kernel=rbf;, score=0.453 total time=   1.9s\n",
            "[CV 2/5] END ......C=0.1, gamma=0.1, kernel=rbf;, score=0.452 total time=   1.8s\n",
            "[CV 3/5] END ......C=0.1, gamma=0.1, kernel=rbf;, score=0.452 total time=   1.3s\n",
            "[CV 4/5] END ......C=0.1, gamma=0.1, kernel=rbf;, score=0.453 total time=   1.1s\n",
            "[CV 5/5] END ......C=0.1, gamma=0.1, kernel=rbf;, score=0.453 total time=   1.1s\n",
            "[CV 1/5] END .....C=0.1, gamma=0.01, kernel=rbf;, score=0.456 total time=   0.6s\n",
            "[CV 2/5] END .....C=0.1, gamma=0.01, kernel=rbf;, score=0.452 total time=   0.6s\n",
            "[CV 3/5] END .....C=0.1, gamma=0.01, kernel=rbf;, score=0.450 total time=   0.6s\n",
            "[CV 4/5] END .....C=0.1, gamma=0.01, kernel=rbf;, score=0.451 total time=   0.6s\n",
            "[CV 5/5] END .....C=0.1, gamma=0.01, kernel=rbf;, score=0.457 total time=   0.6s\n",
            "[CV 1/5] END ....C=0.1, gamma=0.001, kernel=rbf;, score=0.448 total time=   0.5s\n",
            "[CV 2/5] END ....C=0.1, gamma=0.001, kernel=rbf;, score=0.452 total time=   0.6s\n",
            "[CV 3/5] END ....C=0.1, gamma=0.001, kernel=rbf;, score=0.440 total time=   0.6s\n",
            "[CV 4/5] END ....C=0.1, gamma=0.001, kernel=rbf;, score=0.453 total time=   0.6s\n",
            "[CV 5/5] END ....C=0.1, gamma=0.001, kernel=rbf;, score=0.454 total time=   0.5s\n",
            "[CV 1/5] END ...C=0.1, gamma=0.0001, kernel=rbf;, score=0.453 total time=   0.5s\n",
            "[CV 2/5] END ...C=0.1, gamma=0.0001, kernel=rbf;, score=0.452 total time=   0.5s\n",
            "[CV 3/5] END ...C=0.1, gamma=0.0001, kernel=rbf;, score=0.452 total time=   0.8s\n",
            "[CV 4/5] END ...C=0.1, gamma=0.0001, kernel=rbf;, score=0.453 total time=   0.9s\n",
            "[CV 5/5] END ...C=0.1, gamma=0.0001, kernel=rbf;, score=0.453 total time=   0.9s\n",
            "[CV 1/5] END ..........C=1, gamma=1, kernel=rbf;, score=0.589 total time=   2.3s\n",
            "[CV 2/5] END ..........C=1, gamma=1, kernel=rbf;, score=0.564 total time=   1.4s\n",
            "[CV 3/5] END ..........C=1, gamma=1, kernel=rbf;, score=0.602 total time=   1.4s\n",
            "[CV 4/5] END ..........C=1, gamma=1, kernel=rbf;, score=0.564 total time=   1.4s\n",
            "[CV 5/5] END ..........C=1, gamma=1, kernel=rbf;, score=0.564 total time=   1.4s\n",
            "[CV 1/5] END ........C=1, gamma=0.1, kernel=rbf;, score=0.551 total time=   1.3s\n",
            "[CV 2/5] END ........C=1, gamma=0.1, kernel=rbf;, score=0.544 total time=   1.2s\n",
            "[CV 3/5] END ........C=1, gamma=0.1, kernel=rbf;, score=0.547 total time=   1.2s\n",
            "[CV 4/5] END ........C=1, gamma=0.1, kernel=rbf;, score=0.549 total time=   1.8s\n",
            "[CV 5/5] END ........C=1, gamma=0.1, kernel=rbf;, score=0.523 total time=   2.1s\n",
            "[CV 1/5] END .......C=1, gamma=0.01, kernel=rbf;, score=0.484 total time=   1.1s\n",
            "[CV 2/5] END .......C=1, gamma=0.01, kernel=rbf;, score=0.490 total time=   0.6s\n",
            "[CV 3/5] END .......C=1, gamma=0.01, kernel=rbf;, score=0.472 total time=   0.6s\n",
            "[CV 4/5] END .......C=1, gamma=0.01, kernel=rbf;, score=0.483 total time=   0.6s\n",
            "[CV 5/5] END .......C=1, gamma=0.01, kernel=rbf;, score=0.470 total time=   0.6s\n",
            "[CV 1/5] END ......C=1, gamma=0.001, kernel=rbf;, score=0.462 total time=   0.6s\n",
            "[CV 2/5] END ......C=1, gamma=0.001, kernel=rbf;, score=0.455 total time=   0.7s\n",
            "[CV 3/5] END ......C=1, gamma=0.001, kernel=rbf;, score=0.453 total time=   0.6s\n",
            "[CV 4/5] END ......C=1, gamma=0.001, kernel=rbf;, score=0.474 total time=   0.6s\n",
            "[CV 5/5] END ......C=1, gamma=0.001, kernel=rbf;, score=0.463 total time=   0.7s\n",
            "[CV 1/5] END .....C=1, gamma=0.0001, kernel=rbf;, score=0.461 total time=   0.6s\n",
            "[CV 2/5] END .....C=1, gamma=0.0001, kernel=rbf;, score=0.450 total time=   0.6s\n",
            "[CV 3/5] END .....C=1, gamma=0.0001, kernel=rbf;, score=0.436 total time=   0.6s\n",
            "[CV 4/5] END .....C=1, gamma=0.0001, kernel=rbf;, score=0.450 total time=   0.6s\n",
            "[CV 5/5] END .....C=1, gamma=0.0001, kernel=rbf;, score=0.457 total time=   0.6s\n",
            "[CV 1/5] END .........C=10, gamma=1, kernel=rbf;, score=0.586 total time=   1.5s\n",
            "[CV 2/5] END .........C=10, gamma=1, kernel=rbf;, score=0.560 total time=   2.4s\n",
            "[CV 3/5] END .........C=10, gamma=1, kernel=rbf;, score=0.606 total time=   2.2s\n",
            "[CV 4/5] END .........C=10, gamma=1, kernel=rbf;, score=0.566 total time=   1.4s\n",
            "[CV 5/5] END .........C=10, gamma=1, kernel=rbf;, score=0.569 total time=   1.4s\n",
            "[CV 1/5] END .......C=10, gamma=0.1, kernel=rbf;, score=0.550 total time=   1.3s\n",
            "[CV 2/5] END .......C=10, gamma=0.1, kernel=rbf;, score=0.535 total time=   1.2s\n",
            "[CV 3/5] END .......C=10, gamma=0.1, kernel=rbf;, score=0.567 total time=   1.3s\n",
            "[CV 4/5] END .......C=10, gamma=0.1, kernel=rbf;, score=0.542 total time=   1.3s\n",
            "[CV 5/5] END .......C=10, gamma=0.1, kernel=rbf;, score=0.536 total time=   1.3s\n",
            "[CV 1/5] END ......C=10, gamma=0.01, kernel=rbf;, score=0.525 total time=   0.9s\n",
            "[CV 2/5] END ......C=10, gamma=0.01, kernel=rbf;, score=0.529 total time=   1.3s\n",
            "[CV 3/5] END ......C=10, gamma=0.01, kernel=rbf;, score=0.532 total time=   1.2s\n",
            "[CV 4/5] END ......C=10, gamma=0.01, kernel=rbf;, score=0.540 total time=   1.2s\n",
            "[CV 5/5] END ......C=10, gamma=0.01, kernel=rbf;, score=0.491 total time=   0.9s\n",
            "[CV 1/5] END .....C=10, gamma=0.001, kernel=rbf;, score=0.525 total time=   0.7s\n",
            "[CV 2/5] END .....C=10, gamma=0.001, kernel=rbf;, score=0.509 total time=   0.8s\n",
            "[CV 3/5] END .....C=10, gamma=0.001, kernel=rbf;, score=0.513 total time=   0.8s\n",
            "[CV 4/5] END .....C=10, gamma=0.001, kernel=rbf;, score=0.496 total time=   0.7s\n",
            "[CV 5/5] END .....C=10, gamma=0.001, kernel=rbf;, score=0.485 total time=   0.8s\n",
            "[CV 1/5] END ....C=10, gamma=0.0001, kernel=rbf;, score=0.480 total time=   0.9s\n",
            "[CV 2/5] END ....C=10, gamma=0.0001, kernel=rbf;, score=0.465 total time=   0.8s\n",
            "[CV 3/5] END ....C=10, gamma=0.0001, kernel=rbf;, score=0.468 total time=   0.9s\n",
            "[CV 4/5] END ....C=10, gamma=0.0001, kernel=rbf;, score=0.488 total time=   0.8s\n",
            "[CV 5/5] END ....C=10, gamma=0.0001, kernel=rbf;, score=0.479 total time=   0.9s\n",
            "[CV 1/5] END ........C=100, gamma=1, kernel=rbf;, score=0.586 total time=   1.4s\n",
            "[CV 2/5] END ........C=100, gamma=1, kernel=rbf;, score=0.560 total time=   2.4s\n",
            "[CV 3/5] END ........C=100, gamma=1, kernel=rbf;, score=0.606 total time=   2.3s\n",
            "[CV 4/5] END ........C=100, gamma=1, kernel=rbf;, score=0.566 total time=   1.4s\n",
            "[CV 5/5] END ........C=100, gamma=1, kernel=rbf;, score=0.569 total time=   1.4s\n",
            "[CV 1/5] END ......C=100, gamma=0.1, kernel=rbf;, score=0.555 total time=   1.3s\n",
            "[CV 2/5] END ......C=100, gamma=0.1, kernel=rbf;, score=0.531 total time=   1.3s\n",
            "[CV 3/5] END ......C=100, gamma=0.1, kernel=rbf;, score=0.570 total time=   1.3s\n",
            "[CV 4/5] END ......C=100, gamma=0.1, kernel=rbf;, score=0.539 total time=   1.3s\n",
            "[CV 5/5] END ......C=100, gamma=0.1, kernel=rbf;, score=0.542 total time=   1.3s\n",
            "[CV 1/5] END .....C=100, gamma=0.01, kernel=rbf;, score=0.526 total time=   2.0s\n",
            "[CV 2/5] END .....C=100, gamma=0.01, kernel=rbf;, score=0.536 total time=   2.4s\n",
            "[CV 3/5] END .....C=100, gamma=0.01, kernel=rbf;, score=0.542 total time=   2.4s\n",
            "[CV 4/5] END .....C=100, gamma=0.01, kernel=rbf;, score=0.564 total time=   2.4s\n",
            "[CV 5/5] END .....C=100, gamma=0.01, kernel=rbf;, score=0.533 total time=   1.5s\n",
            "[CV 1/5] END ....C=100, gamma=0.001, kernel=rbf;, score=0.529 total time=   1.2s\n",
            "[CV 2/5] END ....C=100, gamma=0.001, kernel=rbf;, score=0.538 total time=   1.3s\n",
            "[CV 3/5] END ....C=100, gamma=0.001, kernel=rbf;, score=0.534 total time=   1.3s\n",
            "[CV 4/5] END ....C=100, gamma=0.001, kernel=rbf;, score=0.517 total time=   1.2s\n",
            "[CV 5/5] END ....C=100, gamma=0.001, kernel=rbf;, score=0.501 total time=   1.1s\n",
            "[CV 1/5] END ...C=100, gamma=0.0001, kernel=rbf;, score=0.526 total time=   1.4s\n",
            "[CV 2/5] END ...C=100, gamma=0.0001, kernel=rbf;, score=0.526 total time=   2.0s\n",
            "[CV 3/5] END ...C=100, gamma=0.0001, kernel=rbf;, score=0.509 total time=   2.8s\n",
            "[CV 4/5] END ...C=100, gamma=0.0001, kernel=rbf;, score=0.515 total time=   1.7s\n",
            "[CV 5/5] END ...C=100, gamma=0.0001, kernel=rbf;, score=0.493 total time=   1.6s\n",
            "[CV 1/5] END .......C=1000, gamma=1, kernel=rbf;, score=0.586 total time=   1.4s\n",
            "[CV 2/5] END .......C=1000, gamma=1, kernel=rbf;, score=0.560 total time=   1.4s\n",
            "[CV 3/5] END .......C=1000, gamma=1, kernel=rbf;, score=0.606 total time=   1.4s\n",
            "[CV 4/5] END .......C=1000, gamma=1, kernel=rbf;, score=0.566 total time=   1.4s\n",
            "[CV 5/5] END .......C=1000, gamma=1, kernel=rbf;, score=0.569 total time=   1.4s\n",
            "[CV 1/5] END .....C=1000, gamma=0.1, kernel=rbf;, score=0.555 total time=   1.6s\n",
            "[CV 2/5] END .....C=1000, gamma=0.1, kernel=rbf;, score=0.531 total time=   2.1s\n",
            "[CV 3/5] END .....C=1000, gamma=0.1, kernel=rbf;, score=0.570 total time=   2.0s\n",
            "[CV 4/5] END .....C=1000, gamma=0.1, kernel=rbf;, score=0.539 total time=   1.3s\n",
            "[CV 5/5] END .....C=1000, gamma=0.1, kernel=rbf;, score=0.542 total time=   1.3s\n",
            "[CV 1/5] END ....C=1000, gamma=0.01, kernel=rbf;, score=0.523 total time=   3.5s\n",
            "[CV 2/5] END ....C=1000, gamma=0.01, kernel=rbf;, score=0.547 total time=   3.6s\n",
            "[CV 3/5] END ....C=1000, gamma=0.01, kernel=rbf;, score=0.560 total time=   5.7s\n",
            "[CV 4/5] END ....C=1000, gamma=0.01, kernel=rbf;, score=0.543 total time=   3.5s\n",
            "[CV 5/5] END ....C=1000, gamma=0.01, kernel=rbf;, score=0.511 total time=   3.3s\n",
            "[CV 1/5] END ...C=1000, gamma=0.001, kernel=rbf;, score=0.566 total time=   6.1s\n",
            "[CV 2/5] END ...C=1000, gamma=0.001, kernel=rbf;, score=0.585 total time=   4.5s\n",
            "[CV 3/5] END ...C=1000, gamma=0.001, kernel=rbf;, score=0.573 total time=   3.9s\n",
            "[CV 4/5] END ...C=1000, gamma=0.001, kernel=rbf;, score=0.527 total time=   5.7s\n",
            "[CV 5/5] END ...C=1000, gamma=0.001, kernel=rbf;, score=0.517 total time=   4.7s\n",
            "[CV 1/5] END ..C=1000, gamma=0.0001, kernel=rbf;, score=0.534 total time=   3.7s\n",
            "[CV 2/5] END ..C=1000, gamma=0.0001, kernel=rbf;, score=0.554 total time=   7.9s\n",
            "[CV 3/5] END ..C=1000, gamma=0.0001, kernel=rbf;, score=0.536 total time=   4.0s\n",
            "[CV 4/5] END ..C=1000, gamma=0.0001, kernel=rbf;, score=0.528 total time=   3.2s\n",
            "[CV 5/5] END ..C=1000, gamma=0.0001, kernel=rbf;, score=0.518 total time=   4.3s\n",
            "Best params for SVC: {'C': 10, 'gamma': 1, 'kernel': 'rbf'}\n",
            "Hyparparameters for SVC: SVC(C=10, gamma=1)\n",
            "Fitting 5 folds for each of 54 candidates, totalling 270 fits\n"
          ]
        },
        {
          "output_type": "stream",
          "name": "stderr",
          "text": [
            "/usr/local/lib/python3.10/dist-packages/sklearn/model_selection/_split.py:700: UserWarning: The least populated class in y has only 3 members, which is less than n_splits=5.\n",
            "  warnings.warn(\n"
          ]
        },
        {
          "output_type": "stream",
          "name": "stdout",
          "text": [
            "[CV 1/5] END activation=relu, alpha=0.0001, hidden_layer_sizes=(100,), learning_rate=constant;, score=0.480 total time=   0.8s\n",
            "[CV 2/5] END activation=relu, alpha=0.0001, hidden_layer_sizes=(100,), learning_rate=constant;, score=0.493 total time=   1.0s\n",
            "[CV 3/5] END activation=relu, alpha=0.0001, hidden_layer_sizes=(100,), learning_rate=constant;, score=0.504 total time=   0.9s\n",
            "[CV 4/5] END activation=relu, alpha=0.0001, hidden_layer_sizes=(100,), learning_rate=constant;, score=0.472 total time=   1.4s\n",
            "[CV 5/5] END activation=relu, alpha=0.0001, hidden_layer_sizes=(100,), learning_rate=constant;, score=0.493 total time=   0.7s\n",
            "[CV 1/5] END activation=relu, alpha=0.0001, hidden_layer_sizes=(100,), learning_rate=invscaling;, score=0.415 total time=   1.5s\n",
            "[CV 2/5] END activation=relu, alpha=0.0001, hidden_layer_sizes=(100,), learning_rate=invscaling;, score=0.510 total time=   1.0s\n",
            "[CV 3/5] END activation=relu, alpha=0.0001, hidden_layer_sizes=(100,), learning_rate=invscaling;, score=0.493 total time=   1.8s\n",
            "[CV 4/5] END activation=relu, alpha=0.0001, hidden_layer_sizes=(100,), learning_rate=invscaling;, score=0.486 total time=   1.2s\n",
            "[CV 5/5] END activation=relu, alpha=0.0001, hidden_layer_sizes=(100,), learning_rate=invscaling;, score=0.511 total time=   1.5s\n",
            "[CV 1/5] END activation=relu, alpha=0.0001, hidden_layer_sizes=(100,), learning_rate=adaptive;, score=0.494 total time=   1.6s\n",
            "[CV 2/5] END activation=relu, alpha=0.0001, hidden_layer_sizes=(100,), learning_rate=adaptive;, score=0.532 total time=   2.2s\n",
            "[CV 3/5] END activation=relu, alpha=0.0001, hidden_layer_sizes=(100,), learning_rate=adaptive;, score=0.513 total time=   1.3s\n",
            "[CV 4/5] END activation=relu, alpha=0.0001, hidden_layer_sizes=(100,), learning_rate=adaptive;, score=0.507 total time=   1.5s\n",
            "[CV 5/5] END activation=relu, alpha=0.0001, hidden_layer_sizes=(100,), learning_rate=adaptive;, score=0.492 total time=   1.0s\n",
            "[CV 1/5] END activation=relu, alpha=0.0001, hidden_layer_sizes=(50, 50), learning_rate=constant;, score=0.517 total time=   2.9s\n",
            "[CV 2/5] END activation=relu, alpha=0.0001, hidden_layer_sizes=(50, 50), learning_rate=constant;, score=0.472 total time=   2.7s\n",
            "[CV 3/5] END activation=relu, alpha=0.0001, hidden_layer_sizes=(50, 50), learning_rate=constant;, score=0.512 total time=   7.4s\n",
            "[CV 4/5] END activation=relu, alpha=0.0001, hidden_layer_sizes=(50, 50), learning_rate=constant;, score=0.483 total time=   4.1s\n",
            "[CV 5/5] END activation=relu, alpha=0.0001, hidden_layer_sizes=(50, 50), learning_rate=constant;, score=0.493 total time=   1.5s\n",
            "[CV 1/5] END activation=relu, alpha=0.0001, hidden_layer_sizes=(50, 50), learning_rate=invscaling;, score=0.494 total time=   1.9s\n",
            "[CV 2/5] END activation=relu, alpha=0.0001, hidden_layer_sizes=(50, 50), learning_rate=invscaling;, score=0.483 total time=   1.9s\n",
            "[CV 3/5] END activation=relu, alpha=0.0001, hidden_layer_sizes=(50, 50), learning_rate=invscaling;, score=0.471 total time=   2.4s\n",
            "[CV 4/5] END activation=relu, alpha=0.0001, hidden_layer_sizes=(50, 50), learning_rate=invscaling;, score=0.485 total time=   3.8s\n",
            "[CV 5/5] END activation=relu, alpha=0.0001, hidden_layer_sizes=(50, 50), learning_rate=invscaling;, score=0.476 total time=   2.5s\n",
            "[CV 1/5] END activation=relu, alpha=0.0001, hidden_layer_sizes=(50, 50), learning_rate=adaptive;, score=0.516 total time=   2.7s\n",
            "[CV 2/5] END activation=relu, alpha=0.0001, hidden_layer_sizes=(50, 50), learning_rate=adaptive;, score=0.499 total time=   2.7s\n",
            "[CV 3/5] END activation=relu, alpha=0.0001, hidden_layer_sizes=(50, 50), learning_rate=adaptive;, score=0.504 total time=   6.3s\n",
            "[CV 4/5] END activation=relu, alpha=0.0001, hidden_layer_sizes=(50, 50), learning_rate=adaptive;, score=0.460 total time=   2.3s\n",
            "[CV 5/5] END activation=relu, alpha=0.0001, hidden_layer_sizes=(50, 50), learning_rate=adaptive;, score=0.495 total time=   1.9s\n",
            "[CV 1/5] END activation=relu, alpha=0.0001, hidden_layer_sizes=(50, 100, 50), learning_rate=constant;, score=0.506 total time=   2.9s\n",
            "[CV 2/5] END activation=relu, alpha=0.0001, hidden_layer_sizes=(50, 100, 50), learning_rate=constant;, score=0.458 total time=   1.1s\n",
            "[CV 3/5] END activation=relu, alpha=0.0001, hidden_layer_sizes=(50, 100, 50), learning_rate=constant;, score=0.509 total time=   7.0s\n",
            "[CV 4/5] END activation=relu, alpha=0.0001, hidden_layer_sizes=(50, 100, 50), learning_rate=constant;, score=0.498 total time=   2.2s\n",
            "[CV 5/5] END activation=relu, alpha=0.0001, hidden_layer_sizes=(50, 100, 50), learning_rate=constant;, score=0.493 total time=   3.7s\n"
          ]
        },
        {
          "output_type": "stream",
          "name": "stderr",
          "text": [
            "/usr/local/lib/python3.10/dist-packages/sklearn/neural_network/_multilayer_perceptron.py:686: ConvergenceWarning: Stochastic Optimizer: Maximum iterations (200) reached and the optimization hasn't converged yet.\n",
            "  warnings.warn(\n"
          ]
        },
        {
          "output_type": "stream",
          "name": "stdout",
          "text": [
            "[CV 1/5] END activation=relu, alpha=0.0001, hidden_layer_sizes=(50, 100, 50), learning_rate=invscaling;, score=0.538 total time=   9.3s\n",
            "[CV 2/5] END activation=relu, alpha=0.0001, hidden_layer_sizes=(50, 100, 50), learning_rate=invscaling;, score=0.504 total time=   3.0s\n",
            "[CV 3/5] END activation=relu, alpha=0.0001, hidden_layer_sizes=(50, 100, 50), learning_rate=invscaling;, score=0.456 total time=   1.5s\n",
            "[CV 4/5] END activation=relu, alpha=0.0001, hidden_layer_sizes=(50, 100, 50), learning_rate=invscaling;, score=0.521 total time=   4.5s\n",
            "[CV 5/5] END activation=relu, alpha=0.0001, hidden_layer_sizes=(50, 100, 50), learning_rate=invscaling;, score=0.492 total time=   6.9s\n",
            "[CV 1/5] END activation=relu, alpha=0.0001, hidden_layer_sizes=(50, 100, 50), learning_rate=adaptive;, score=0.510 total time=   2.0s\n",
            "[CV 2/5] END activation=relu, alpha=0.0001, hidden_layer_sizes=(50, 100, 50), learning_rate=adaptive;, score=0.480 total time=   2.2s\n",
            "[CV 3/5] END activation=relu, alpha=0.0001, hidden_layer_sizes=(50, 100, 50), learning_rate=adaptive;, score=0.528 total time=   6.5s\n",
            "[CV 4/5] END activation=relu, alpha=0.0001, hidden_layer_sizes=(50, 100, 50), learning_rate=adaptive;, score=0.469 total time=   5.6s\n",
            "[CV 5/5] END activation=relu, alpha=0.0001, hidden_layer_sizes=(50, 100, 50), learning_rate=adaptive;, score=0.473 total time=   3.9s\n",
            "[CV 1/5] END activation=relu, alpha=0.001, hidden_layer_sizes=(100,), learning_rate=constant;, score=0.485 total time=   0.9s\n",
            "[CV 2/5] END activation=relu, alpha=0.001, hidden_layer_sizes=(100,), learning_rate=constant;, score=0.535 total time=   1.3s\n",
            "[CV 3/5] END activation=relu, alpha=0.001, hidden_layer_sizes=(100,), learning_rate=constant;, score=0.491 total time=   1.0s\n",
            "[CV 4/5] END activation=relu, alpha=0.001, hidden_layer_sizes=(100,), learning_rate=constant;, score=0.466 total time=   1.3s\n",
            "[CV 5/5] END activation=relu, alpha=0.001, hidden_layer_sizes=(100,), learning_rate=constant;, score=0.528 total time=   2.2s\n",
            "[CV 1/5] END activation=relu, alpha=0.001, hidden_layer_sizes=(100,), learning_rate=invscaling;, score=0.499 total time=   2.0s\n",
            "[CV 2/5] END activation=relu, alpha=0.001, hidden_layer_sizes=(100,), learning_rate=invscaling;, score=0.500 total time=   1.5s\n",
            "[CV 3/5] END activation=relu, alpha=0.001, hidden_layer_sizes=(100,), learning_rate=invscaling;, score=0.481 total time=   0.8s\n",
            "[CV 4/5] END activation=relu, alpha=0.001, hidden_layer_sizes=(100,), learning_rate=invscaling;, score=0.466 total time=   1.3s\n",
            "[CV 5/5] END activation=relu, alpha=0.001, hidden_layer_sizes=(100,), learning_rate=invscaling;, score=0.511 total time=   1.4s\n",
            "[CV 1/5] END activation=relu, alpha=0.001, hidden_layer_sizes=(100,), learning_rate=adaptive;, score=0.519 total time=   1.2s\n",
            "[CV 2/5] END activation=relu, alpha=0.001, hidden_layer_sizes=(100,), learning_rate=adaptive;, score=0.515 total time=   0.6s\n",
            "[CV 3/5] END activation=relu, alpha=0.001, hidden_layer_sizes=(100,), learning_rate=adaptive;, score=0.528 total time=   1.2s\n",
            "[CV 4/5] END activation=relu, alpha=0.001, hidden_layer_sizes=(100,), learning_rate=adaptive;, score=0.491 total time=   1.4s\n",
            "[CV 5/5] END activation=relu, alpha=0.001, hidden_layer_sizes=(100,), learning_rate=adaptive;, score=0.517 total time=   1.4s\n",
            "[CV 1/5] END activation=relu, alpha=0.001, hidden_layer_sizes=(50, 50), learning_rate=constant;, score=0.487 total time=   3.4s\n",
            "[CV 2/5] END activation=relu, alpha=0.001, hidden_layer_sizes=(50, 50), learning_rate=constant;, score=0.494 total time=   2.2s\n",
            "[CV 3/5] END activation=relu, alpha=0.001, hidden_layer_sizes=(50, 50), learning_rate=constant;, score=0.481 total time=   2.8s\n",
            "[CV 4/5] END activation=relu, alpha=0.001, hidden_layer_sizes=(50, 50), learning_rate=constant;, score=0.458 total time=   4.1s\n",
            "[CV 5/5] END activation=relu, alpha=0.001, hidden_layer_sizes=(50, 50), learning_rate=constant;, score=0.509 total time=   2.9s\n",
            "[CV 1/5] END activation=relu, alpha=0.001, hidden_layer_sizes=(50, 50), learning_rate=invscaling;, score=0.516 total time=   5.6s\n",
            "[CV 2/5] END activation=relu, alpha=0.001, hidden_layer_sizes=(50, 50), learning_rate=invscaling;, score=0.478 total time=   3.0s\n",
            "[CV 3/5] END activation=relu, alpha=0.001, hidden_layer_sizes=(50, 50), learning_rate=invscaling;, score=0.450 total time=   1.5s\n",
            "[CV 4/5] END activation=relu, alpha=0.001, hidden_layer_sizes=(50, 50), learning_rate=invscaling;, score=0.469 total time=   1.3s\n",
            "[CV 5/5] END activation=relu, alpha=0.001, hidden_layer_sizes=(50, 50), learning_rate=invscaling;, score=0.479 total time=   2.3s\n",
            "[CV 1/5] END activation=relu, alpha=0.001, hidden_layer_sizes=(50, 50), learning_rate=adaptive;, score=0.414 total time=   0.9s\n",
            "[CV 2/5] END activation=relu, alpha=0.001, hidden_layer_sizes=(50, 50), learning_rate=adaptive;, score=0.519 total time=   2.8s\n",
            "[CV 3/5] END activation=relu, alpha=0.001, hidden_layer_sizes=(50, 50), learning_rate=adaptive;, score=0.487 total time=   3.8s\n",
            "[CV 4/5] END activation=relu, alpha=0.001, hidden_layer_sizes=(50, 50), learning_rate=adaptive;, score=0.489 total time=   2.2s\n",
            "[CV 5/5] END activation=relu, alpha=0.001, hidden_layer_sizes=(50, 50), learning_rate=adaptive;, score=0.469 total time=   1.9s\n",
            "[CV 1/5] END activation=relu, alpha=0.001, hidden_layer_sizes=(50, 100, 50), learning_rate=constant;, score=0.517 total time=   4.4s\n",
            "[CV 2/5] END activation=relu, alpha=0.001, hidden_layer_sizes=(50, 100, 50), learning_rate=constant;, score=0.471 total time=   4.2s\n",
            "[CV 3/5] END activation=relu, alpha=0.001, hidden_layer_sizes=(50, 100, 50), learning_rate=constant;, score=0.483 total time=   3.9s\n"
          ]
        },
        {
          "output_type": "stream",
          "name": "stderr",
          "text": [
            "/usr/local/lib/python3.10/dist-packages/sklearn/neural_network/_multilayer_perceptron.py:686: ConvergenceWarning: Stochastic Optimizer: Maximum iterations (200) reached and the optimization hasn't converged yet.\n",
            "  warnings.warn(\n"
          ]
        },
        {
          "output_type": "stream",
          "name": "stdout",
          "text": [
            "[CV 4/5] END activation=relu, alpha=0.001, hidden_layer_sizes=(50, 100, 50), learning_rate=constant;, score=0.531 total time=   7.1s\n",
            "[CV 5/5] END activation=relu, alpha=0.001, hidden_layer_sizes=(50, 100, 50), learning_rate=constant;, score=0.480 total time=   5.8s\n",
            "[CV 1/5] END activation=relu, alpha=0.001, hidden_layer_sizes=(50, 100, 50), learning_rate=invscaling;, score=0.439 total time=   4.1s\n",
            "[CV 2/5] END activation=relu, alpha=0.001, hidden_layer_sizes=(50, 100, 50), learning_rate=invscaling;, score=0.536 total time=   2.6s\n",
            "[CV 3/5] END activation=relu, alpha=0.001, hidden_layer_sizes=(50, 100, 50), learning_rate=invscaling;, score=0.499 total time=   6.9s\n",
            "[CV 4/5] END activation=relu, alpha=0.001, hidden_layer_sizes=(50, 100, 50), learning_rate=invscaling;, score=0.445 total time=   2.5s\n",
            "[CV 5/5] END activation=relu, alpha=0.001, hidden_layer_sizes=(50, 100, 50), learning_rate=invscaling;, score=0.495 total time=   2.9s\n",
            "[CV 1/5] END activation=relu, alpha=0.001, hidden_layer_sizes=(50, 100, 50), learning_rate=adaptive;, score=0.475 total time=   2.3s\n",
            "[CV 2/5] END activation=relu, alpha=0.001, hidden_layer_sizes=(50, 100, 50), learning_rate=adaptive;, score=0.548 total time=   5.7s\n",
            "[CV 3/5] END activation=relu, alpha=0.001, hidden_layer_sizes=(50, 100, 50), learning_rate=adaptive;, score=0.493 total time=   5.6s\n",
            "[CV 4/5] END activation=relu, alpha=0.001, hidden_layer_sizes=(50, 100, 50), learning_rate=adaptive;, score=0.473 total time=   6.6s\n",
            "[CV 5/5] END activation=relu, alpha=0.001, hidden_layer_sizes=(50, 100, 50), learning_rate=adaptive;, score=0.470 total time=   1.4s\n",
            "[CV 1/5] END activation=relu, alpha=0.01, hidden_layer_sizes=(100,), learning_rate=constant;, score=0.496 total time=   1.0s\n",
            "[CV 2/5] END activation=relu, alpha=0.01, hidden_layer_sizes=(100,), learning_rate=constant;, score=0.500 total time=   1.1s\n",
            "[CV 3/5] END activation=relu, alpha=0.01, hidden_layer_sizes=(100,), learning_rate=constant;, score=0.513 total time=   2.2s\n",
            "[CV 4/5] END activation=relu, alpha=0.01, hidden_layer_sizes=(100,), learning_rate=constant;, score=0.483 total time=   0.8s\n",
            "[CV 5/5] END activation=relu, alpha=0.01, hidden_layer_sizes=(100,), learning_rate=constant;, score=0.512 total time=   0.8s\n",
            "[CV 1/5] END activation=relu, alpha=0.01, hidden_layer_sizes=(100,), learning_rate=invscaling;, score=0.481 total time=   0.6s\n",
            "[CV 2/5] END activation=relu, alpha=0.01, hidden_layer_sizes=(100,), learning_rate=invscaling;, score=0.539 total time=   1.0s\n",
            "[CV 3/5] END activation=relu, alpha=0.01, hidden_layer_sizes=(100,), learning_rate=invscaling;, score=0.507 total time=   1.4s\n",
            "[CV 4/5] END activation=relu, alpha=0.01, hidden_layer_sizes=(100,), learning_rate=invscaling;, score=0.493 total time=   0.7s\n",
            "[CV 5/5] END activation=relu, alpha=0.01, hidden_layer_sizes=(100,), learning_rate=invscaling;, score=0.493 total time=   1.2s\n",
            "[CV 1/5] END activation=relu, alpha=0.01, hidden_layer_sizes=(100,), learning_rate=adaptive;, score=0.481 total time=   1.2s\n",
            "[CV 2/5] END activation=relu, alpha=0.01, hidden_layer_sizes=(100,), learning_rate=adaptive;, score=0.555 total time=   1.2s\n",
            "[CV 3/5] END activation=relu, alpha=0.01, hidden_layer_sizes=(100,), learning_rate=adaptive;, score=0.487 total time=   1.2s\n",
            "[CV 4/5] END activation=relu, alpha=0.01, hidden_layer_sizes=(100,), learning_rate=adaptive;, score=0.508 total time=   1.1s\n",
            "[CV 5/5] END activation=relu, alpha=0.01, hidden_layer_sizes=(100,), learning_rate=adaptive;, score=0.509 total time=   1.9s\n",
            "[CV 1/5] END activation=relu, alpha=0.01, hidden_layer_sizes=(50, 50), learning_rate=constant;, score=0.519 total time=   2.9s\n",
            "[CV 2/5] END activation=relu, alpha=0.01, hidden_layer_sizes=(50, 50), learning_rate=constant;, score=0.535 total time=   1.5s\n",
            "[CV 3/5] END activation=relu, alpha=0.01, hidden_layer_sizes=(50, 50), learning_rate=constant;, score=0.484 total time=   1.5s\n",
            "[CV 4/5] END activation=relu, alpha=0.01, hidden_layer_sizes=(50, 50), learning_rate=constant;, score=0.501 total time=   2.3s\n",
            "[CV 5/5] END activation=relu, alpha=0.01, hidden_layer_sizes=(50, 50), learning_rate=constant;, score=0.502 total time=   1.6s\n",
            "[CV 1/5] END activation=relu, alpha=0.01, hidden_layer_sizes=(50, 50), learning_rate=invscaling;, score=0.512 total time=   6.7s\n",
            "[CV 2/5] END activation=relu, alpha=0.01, hidden_layer_sizes=(50, 50), learning_rate=invscaling;, score=0.507 total time=   6.2s\n",
            "[CV 3/5] END activation=relu, alpha=0.01, hidden_layer_sizes=(50, 50), learning_rate=invscaling;, score=0.450 total time=   1.3s\n",
            "[CV 4/5] END activation=relu, alpha=0.01, hidden_layer_sizes=(50, 50), learning_rate=invscaling;, score=0.472 total time=   2.4s\n",
            "[CV 5/5] END activation=relu, alpha=0.01, hidden_layer_sizes=(50, 50), learning_rate=invscaling;, score=0.474 total time=   5.4s\n",
            "[CV 1/5] END activation=relu, alpha=0.01, hidden_layer_sizes=(50, 50), learning_rate=adaptive;, score=0.446 total time=   1.8s\n",
            "[CV 2/5] END activation=relu, alpha=0.01, hidden_layer_sizes=(50, 50), learning_rate=adaptive;, score=0.466 total time=   1.4s\n",
            "[CV 3/5] END activation=relu, alpha=0.01, hidden_layer_sizes=(50, 50), learning_rate=adaptive;, score=0.497 total time=   2.8s\n",
            "[CV 4/5] END activation=relu, alpha=0.01, hidden_layer_sizes=(50, 50), learning_rate=adaptive;, score=0.469 total time=   2.6s\n",
            "[CV 5/5] END activation=relu, alpha=0.01, hidden_layer_sizes=(50, 50), learning_rate=adaptive;, score=0.454 total time=   1.5s\n",
            "[CV 1/5] END activation=relu, alpha=0.01, hidden_layer_sizes=(50, 100, 50), learning_rate=constant;, score=0.483 total time=   4.0s\n",
            "[CV 2/5] END activation=relu, alpha=0.01, hidden_layer_sizes=(50, 100, 50), learning_rate=constant;, score=0.504 total time=   2.5s\n",
            "[CV 3/5] END activation=relu, alpha=0.01, hidden_layer_sizes=(50, 100, 50), learning_rate=constant;, score=0.484 total time=   4.8s\n",
            "[CV 4/5] END activation=relu, alpha=0.01, hidden_layer_sizes=(50, 100, 50), learning_rate=constant;, score=0.488 total time=   6.7s\n",
            "[CV 5/5] END activation=relu, alpha=0.01, hidden_layer_sizes=(50, 100, 50), learning_rate=constant;, score=0.485 total time=   4.7s\n",
            "[CV 1/5] END activation=relu, alpha=0.01, hidden_layer_sizes=(50, 100, 50), learning_rate=invscaling;, score=0.513 total time=   3.1s\n",
            "[CV 2/5] END activation=relu, alpha=0.01, hidden_layer_sizes=(50, 100, 50), learning_rate=invscaling;, score=0.468 total time=   1.8s\n",
            "[CV 3/5] END activation=relu, alpha=0.01, hidden_layer_sizes=(50, 100, 50), learning_rate=invscaling;, score=0.437 total time=   2.2s\n",
            "[CV 4/5] END activation=relu, alpha=0.01, hidden_layer_sizes=(50, 100, 50), learning_rate=invscaling;, score=0.450 total time=   5.2s\n",
            "[CV 5/5] END activation=relu, alpha=0.01, hidden_layer_sizes=(50, 100, 50), learning_rate=invscaling;, score=0.473 total time=   4.5s\n",
            "[CV 1/5] END activation=relu, alpha=0.01, hidden_layer_sizes=(50, 100, 50), learning_rate=adaptive;, score=0.481 total time=   2.7s\n",
            "[CV 2/5] END activation=relu, alpha=0.01, hidden_layer_sizes=(50, 100, 50), learning_rate=adaptive;, score=0.466 total time=   2.4s\n",
            "[CV 3/5] END activation=relu, alpha=0.01, hidden_layer_sizes=(50, 100, 50), learning_rate=adaptive;, score=0.496 total time=   6.7s\n",
            "[CV 4/5] END activation=relu, alpha=0.01, hidden_layer_sizes=(50, 100, 50), learning_rate=adaptive;, score=0.502 total time=   5.0s\n",
            "[CV 5/5] END activation=relu, alpha=0.01, hidden_layer_sizes=(50, 100, 50), learning_rate=adaptive;, score=0.454 total time=   1.5s\n"
          ]
        },
        {
          "output_type": "stream",
          "name": "stderr",
          "text": [
            "/usr/local/lib/python3.10/dist-packages/sklearn/neural_network/_multilayer_perceptron.py:686: ConvergenceWarning: Stochastic Optimizer: Maximum iterations (200) reached and the optimization hasn't converged yet.\n",
            "  warnings.warn(\n"
          ]
        },
        {
          "output_type": "stream",
          "name": "stdout",
          "text": [
            "[CV 1/5] END activation=tanh, alpha=0.0001, hidden_layer_sizes=(100,), learning_rate=constant;, score=0.552 total time=   6.2s\n"
          ]
        },
        {
          "output_type": "stream",
          "name": "stderr",
          "text": [
            "/usr/local/lib/python3.10/dist-packages/sklearn/neural_network/_multilayer_perceptron.py:686: ConvergenceWarning: Stochastic Optimizer: Maximum iterations (200) reached and the optimization hasn't converged yet.\n",
            "  warnings.warn(\n"
          ]
        },
        {
          "output_type": "stream",
          "name": "stdout",
          "text": [
            "[CV 2/5] END activation=tanh, alpha=0.0001, hidden_layer_sizes=(100,), learning_rate=constant;, score=0.576 total time=   5.7s\n"
          ]
        },
        {
          "output_type": "stream",
          "name": "stderr",
          "text": [
            "/usr/local/lib/python3.10/dist-packages/sklearn/neural_network/_multilayer_perceptron.py:686: ConvergenceWarning: Stochastic Optimizer: Maximum iterations (200) reached and the optimization hasn't converged yet.\n",
            "  warnings.warn(\n"
          ]
        },
        {
          "output_type": "stream",
          "name": "stdout",
          "text": [
            "[CV 3/5] END activation=tanh, alpha=0.0001, hidden_layer_sizes=(100,), learning_rate=constant;, score=0.554 total time=   5.7s\n"
          ]
        },
        {
          "output_type": "stream",
          "name": "stderr",
          "text": [
            "/usr/local/lib/python3.10/dist-packages/sklearn/neural_network/_multilayer_perceptron.py:686: ConvergenceWarning: Stochastic Optimizer: Maximum iterations (200) reached and the optimization hasn't converged yet.\n",
            "  warnings.warn(\n"
          ]
        },
        {
          "output_type": "stream",
          "name": "stdout",
          "text": [
            "[CV 4/5] END activation=tanh, alpha=0.0001, hidden_layer_sizes=(100,), learning_rate=constant;, score=0.489 total time=   6.5s\n",
            "[CV 5/5] END activation=tanh, alpha=0.0001, hidden_layer_sizes=(100,), learning_rate=constant;, score=0.508 total time=   5.3s\n",
            "[CV 1/5] END activation=tanh, alpha=0.0001, hidden_layer_sizes=(100,), learning_rate=invscaling;, score=0.534 total time=   6.0s\n",
            "[CV 2/5] END activation=tanh, alpha=0.0001, hidden_layer_sizes=(100,), learning_rate=invscaling;, score=0.531 total time=   5.0s\n",
            "[CV 3/5] END activation=tanh, alpha=0.0001, hidden_layer_sizes=(100,), learning_rate=invscaling;, score=0.535 total time=   5.0s\n"
          ]
        },
        {
          "output_type": "stream",
          "name": "stderr",
          "text": [
            "/usr/local/lib/python3.10/dist-packages/sklearn/neural_network/_multilayer_perceptron.py:686: ConvergenceWarning: Stochastic Optimizer: Maximum iterations (200) reached and the optimization hasn't converged yet.\n",
            "  warnings.warn(\n"
          ]
        },
        {
          "output_type": "stream",
          "name": "stdout",
          "text": [
            "[CV 4/5] END activation=tanh, alpha=0.0001, hidden_layer_sizes=(100,), learning_rate=invscaling;, score=0.521 total time=   6.4s\n",
            "[CV 5/5] END activation=tanh, alpha=0.0001, hidden_layer_sizes=(100,), learning_rate=invscaling;, score=0.507 total time=   6.1s\n"
          ]
        },
        {
          "output_type": "stream",
          "name": "stderr",
          "text": [
            "/usr/local/lib/python3.10/dist-packages/sklearn/neural_network/_multilayer_perceptron.py:686: ConvergenceWarning: Stochastic Optimizer: Maximum iterations (200) reached and the optimization hasn't converged yet.\n",
            "  warnings.warn(\n"
          ]
        },
        {
          "output_type": "stream",
          "name": "stdout",
          "text": [
            "[CV 1/5] END activation=tanh, alpha=0.0001, hidden_layer_sizes=(100,), learning_rate=adaptive;, score=0.544 total time=   6.1s\n"
          ]
        },
        {
          "output_type": "stream",
          "name": "stderr",
          "text": [
            "/usr/local/lib/python3.10/dist-packages/sklearn/neural_network/_multilayer_perceptron.py:686: ConvergenceWarning: Stochastic Optimizer: Maximum iterations (200) reached and the optimization hasn't converged yet.\n",
            "  warnings.warn(\n"
          ]
        },
        {
          "output_type": "stream",
          "name": "stdout",
          "text": [
            "[CV 2/5] END activation=tanh, alpha=0.0001, hidden_layer_sizes=(100,), learning_rate=adaptive;, score=0.541 total time=   5.8s\n",
            "[CV 3/5] END activation=tanh, alpha=0.0001, hidden_layer_sizes=(100,), learning_rate=adaptive;, score=0.550 total time=   5.0s\n",
            "[CV 4/5] END activation=tanh, alpha=0.0001, hidden_layer_sizes=(100,), learning_rate=adaptive;, score=0.508 total time=   5.8s\n",
            "[CV 5/5] END activation=tanh, alpha=0.0001, hidden_layer_sizes=(100,), learning_rate=adaptive;, score=0.521 total time=   4.9s\n",
            "[CV 1/5] END activation=tanh, alpha=0.0001, hidden_layer_sizes=(50, 50), learning_rate=constant;, score=0.522 total time=   7.0s\n",
            "[CV 2/5] END activation=tanh, alpha=0.0001, hidden_layer_sizes=(50, 50), learning_rate=constant;, score=0.545 total time=   8.9s\n",
            "[CV 3/5] END activation=tanh, alpha=0.0001, hidden_layer_sizes=(50, 50), learning_rate=constant;, score=0.500 total time=   9.4s\n"
          ]
        },
        {
          "output_type": "stream",
          "name": "stderr",
          "text": [
            "/usr/local/lib/python3.10/dist-packages/sklearn/neural_network/_multilayer_perceptron.py:686: ConvergenceWarning: Stochastic Optimizer: Maximum iterations (200) reached and the optimization hasn't converged yet.\n",
            "  warnings.warn(\n"
          ]
        },
        {
          "output_type": "stream",
          "name": "stdout",
          "text": [
            "[CV 4/5] END activation=tanh, alpha=0.0001, hidden_layer_sizes=(50, 50), learning_rate=constant;, score=0.508 total time=   7.9s\n",
            "[CV 5/5] END activation=tanh, alpha=0.0001, hidden_layer_sizes=(50, 50), learning_rate=constant;, score=0.514 total time=   7.9s\n",
            "[CV 1/5] END activation=tanh, alpha=0.0001, hidden_layer_sizes=(50, 50), learning_rate=invscaling;, score=0.535 total time=   7.8s\n",
            "[CV 2/5] END activation=tanh, alpha=0.0001, hidden_layer_sizes=(50, 50), learning_rate=invscaling;, score=0.548 total time=   9.3s\n",
            "[CV 3/5] END activation=tanh, alpha=0.0001, hidden_layer_sizes=(50, 50), learning_rate=invscaling;, score=0.538 total time=   6.4s\n",
            "[CV 4/5] END activation=tanh, alpha=0.0001, hidden_layer_sizes=(50, 50), learning_rate=invscaling;, score=0.477 total time=   9.7s\n"
          ]
        },
        {
          "output_type": "stream",
          "name": "stderr",
          "text": [
            "/usr/local/lib/python3.10/dist-packages/sklearn/neural_network/_multilayer_perceptron.py:686: ConvergenceWarning: Stochastic Optimizer: Maximum iterations (200) reached and the optimization hasn't converged yet.\n",
            "  warnings.warn(\n"
          ]
        },
        {
          "output_type": "stream",
          "name": "stdout",
          "text": [
            "[CV 5/5] END activation=tanh, alpha=0.0001, hidden_layer_sizes=(50, 50), learning_rate=invscaling;, score=0.515 total time=  10.5s\n",
            "[CV 1/5] END activation=tanh, alpha=0.0001, hidden_layer_sizes=(50, 50), learning_rate=adaptive;, score=0.523 total time=   5.3s\n",
            "[CV 2/5] END activation=tanh, alpha=0.0001, hidden_layer_sizes=(50, 50), learning_rate=adaptive;, score=0.526 total time=   7.0s\n",
            "[CV 3/5] END activation=tanh, alpha=0.0001, hidden_layer_sizes=(50, 50), learning_rate=adaptive;, score=0.516 total time=   9.6s\n",
            "[CV 4/5] END activation=tanh, alpha=0.0001, hidden_layer_sizes=(50, 50), learning_rate=adaptive;, score=0.472 total time=   5.7s\n",
            "[CV 5/5] END activation=tanh, alpha=0.0001, hidden_layer_sizes=(50, 50), learning_rate=adaptive;, score=0.524 total time=   8.3s\n",
            "[CV 1/5] END activation=tanh, alpha=0.0001, hidden_layer_sizes=(50, 100, 50), learning_rate=constant;, score=0.531 total time=   8.8s\n"
          ]
        },
        {
          "output_type": "stream",
          "name": "stderr",
          "text": [
            "/usr/local/lib/python3.10/dist-packages/sklearn/neural_network/_multilayer_perceptron.py:686: ConvergenceWarning: Stochastic Optimizer: Maximum iterations (200) reached and the optimization hasn't converged yet.\n",
            "  warnings.warn(\n"
          ]
        },
        {
          "output_type": "stream",
          "name": "stdout",
          "text": [
            "[CV 2/5] END activation=tanh, alpha=0.0001, hidden_layer_sizes=(50, 100, 50), learning_rate=constant;, score=0.551 total time=  17.0s\n",
            "[CV 3/5] END activation=tanh, alpha=0.0001, hidden_layer_sizes=(50, 100, 50), learning_rate=constant;, score=0.510 total time=  12.2s\n"
          ]
        },
        {
          "output_type": "stream",
          "name": "stderr",
          "text": [
            "/usr/local/lib/python3.10/dist-packages/sklearn/neural_network/_multilayer_perceptron.py:686: ConvergenceWarning: Stochastic Optimizer: Maximum iterations (200) reached and the optimization hasn't converged yet.\n",
            "  warnings.warn(\n"
          ]
        },
        {
          "output_type": "stream",
          "name": "stdout",
          "text": [
            "[CV 4/5] END activation=tanh, alpha=0.0001, hidden_layer_sizes=(50, 100, 50), learning_rate=constant;, score=0.520 total time=  16.9s\n",
            "[CV 5/5] END activation=tanh, alpha=0.0001, hidden_layer_sizes=(50, 100, 50), learning_rate=constant;, score=0.507 total time=   7.8s\n",
            "[CV 1/5] END activation=tanh, alpha=0.0001, hidden_layer_sizes=(50, 100, 50), learning_rate=invscaling;, score=0.531 total time=  12.0s\n"
          ]
        },
        {
          "output_type": "stream",
          "name": "stderr",
          "text": [
            "/usr/local/lib/python3.10/dist-packages/sklearn/neural_network/_multilayer_perceptron.py:686: ConvergenceWarning: Stochastic Optimizer: Maximum iterations (200) reached and the optimization hasn't converged yet.\n",
            "  warnings.warn(\n"
          ]
        },
        {
          "output_type": "stream",
          "name": "stdout",
          "text": [
            "[CV 2/5] END activation=tanh, alpha=0.0001, hidden_layer_sizes=(50, 100, 50), learning_rate=invscaling;, score=0.564 total time=  17.0s\n"
          ]
        },
        {
          "output_type": "stream",
          "name": "stderr",
          "text": [
            "/usr/local/lib/python3.10/dist-packages/sklearn/neural_network/_multilayer_perceptron.py:686: ConvergenceWarning: Stochastic Optimizer: Maximum iterations (200) reached and the optimization hasn't converged yet.\n",
            "  warnings.warn(\n"
          ]
        },
        {
          "output_type": "stream",
          "name": "stdout",
          "text": [
            "[CV 3/5] END activation=tanh, alpha=0.0001, hidden_layer_sizes=(50, 100, 50), learning_rate=invscaling;, score=0.523 total time=  18.4s\n",
            "[CV 4/5] END activation=tanh, alpha=0.0001, hidden_layer_sizes=(50, 100, 50), learning_rate=invscaling;, score=0.526 total time=  16.5s\n"
          ]
        },
        {
          "output_type": "stream",
          "name": "stderr",
          "text": [
            "/usr/local/lib/python3.10/dist-packages/sklearn/neural_network/_multilayer_perceptron.py:686: ConvergenceWarning: Stochastic Optimizer: Maximum iterations (200) reached and the optimization hasn't converged yet.\n",
            "  warnings.warn(\n"
          ]
        },
        {
          "output_type": "stream",
          "name": "stdout",
          "text": [
            "[CV 5/5] END activation=tanh, alpha=0.0001, hidden_layer_sizes=(50, 100, 50), learning_rate=invscaling;, score=0.511 total time=  17.6s\n"
          ]
        },
        {
          "output_type": "stream",
          "name": "stderr",
          "text": [
            "/usr/local/lib/python3.10/dist-packages/sklearn/neural_network/_multilayer_perceptron.py:686: ConvergenceWarning: Stochastic Optimizer: Maximum iterations (200) reached and the optimization hasn't converged yet.\n",
            "  warnings.warn(\n"
          ]
        },
        {
          "output_type": "stream",
          "name": "stdout",
          "text": [
            "[CV 1/5] END activation=tanh, alpha=0.0001, hidden_layer_sizes=(50, 100, 50), learning_rate=adaptive;, score=0.491 total time=  17.1s\n",
            "[CV 2/5] END activation=tanh, alpha=0.0001, hidden_layer_sizes=(50, 100, 50), learning_rate=adaptive;, score=0.551 total time=  14.1s\n"
          ]
        },
        {
          "output_type": "stream",
          "name": "stderr",
          "text": [
            "/usr/local/lib/python3.10/dist-packages/sklearn/neural_network/_multilayer_perceptron.py:686: ConvergenceWarning: Stochastic Optimizer: Maximum iterations (200) reached and the optimization hasn't converged yet.\n",
            "  warnings.warn(\n"
          ]
        },
        {
          "output_type": "stream",
          "name": "stdout",
          "text": [
            "[CV 3/5] END activation=tanh, alpha=0.0001, hidden_layer_sizes=(50, 100, 50), learning_rate=adaptive;, score=0.542 total time=  17.0s\n"
          ]
        },
        {
          "output_type": "stream",
          "name": "stderr",
          "text": [
            "/usr/local/lib/python3.10/dist-packages/sklearn/neural_network/_multilayer_perceptron.py:686: ConvergenceWarning: Stochastic Optimizer: Maximum iterations (200) reached and the optimization hasn't converged yet.\n",
            "  warnings.warn(\n"
          ]
        },
        {
          "output_type": "stream",
          "name": "stdout",
          "text": [
            "[CV 4/5] END activation=tanh, alpha=0.0001, hidden_layer_sizes=(50, 100, 50), learning_rate=adaptive;, score=0.530 total time=  16.8s\n"
          ]
        },
        {
          "output_type": "stream",
          "name": "stderr",
          "text": [
            "/usr/local/lib/python3.10/dist-packages/sklearn/neural_network/_multilayer_perceptron.py:686: ConvergenceWarning: Stochastic Optimizer: Maximum iterations (200) reached and the optimization hasn't converged yet.\n",
            "  warnings.warn(\n"
          ]
        },
        {
          "output_type": "stream",
          "name": "stdout",
          "text": [
            "[CV 5/5] END activation=tanh, alpha=0.0001, hidden_layer_sizes=(50, 100, 50), learning_rate=adaptive;, score=0.524 total time=  16.9s\n"
          ]
        },
        {
          "output_type": "stream",
          "name": "stderr",
          "text": [
            "/usr/local/lib/python3.10/dist-packages/sklearn/neural_network/_multilayer_perceptron.py:686: ConvergenceWarning: Stochastic Optimizer: Maximum iterations (200) reached and the optimization hasn't converged yet.\n",
            "  warnings.warn(\n"
          ]
        },
        {
          "output_type": "stream",
          "name": "stdout",
          "text": [
            "[CV 1/5] END activation=tanh, alpha=0.001, hidden_layer_sizes=(100,), learning_rate=constant;, score=0.548 total time=   6.3s\n"
          ]
        },
        {
          "output_type": "stream",
          "name": "stderr",
          "text": [
            "/usr/local/lib/python3.10/dist-packages/sklearn/neural_network/_multilayer_perceptron.py:686: ConvergenceWarning: Stochastic Optimizer: Maximum iterations (200) reached and the optimization hasn't converged yet.\n",
            "  warnings.warn(\n"
          ]
        },
        {
          "output_type": "stream",
          "name": "stdout",
          "text": [
            "[CV 2/5] END activation=tanh, alpha=0.001, hidden_layer_sizes=(100,), learning_rate=constant;, score=0.516 total time=   5.5s\n",
            "[CV 3/5] END activation=tanh, alpha=0.001, hidden_layer_sizes=(100,), learning_rate=constant;, score=0.525 total time=   5.0s\n",
            "[CV 4/5] END activation=tanh, alpha=0.001, hidden_layer_sizes=(100,), learning_rate=constant;, score=0.514 total time=   5.2s\n"
          ]
        },
        {
          "output_type": "stream",
          "name": "stderr",
          "text": [
            "/usr/local/lib/python3.10/dist-packages/sklearn/neural_network/_multilayer_perceptron.py:686: ConvergenceWarning: Stochastic Optimizer: Maximum iterations (200) reached and the optimization hasn't converged yet.\n",
            "  warnings.warn(\n"
          ]
        },
        {
          "output_type": "stream",
          "name": "stdout",
          "text": [
            "[CV 5/5] END activation=tanh, alpha=0.001, hidden_layer_sizes=(100,), learning_rate=constant;, score=0.536 total time=   6.1s\n"
          ]
        },
        {
          "output_type": "stream",
          "name": "stderr",
          "text": [
            "/usr/local/lib/python3.10/dist-packages/sklearn/neural_network/_multilayer_perceptron.py:686: ConvergenceWarning: Stochastic Optimizer: Maximum iterations (200) reached and the optimization hasn't converged yet.\n",
            "  warnings.warn(\n"
          ]
        },
        {
          "output_type": "stream",
          "name": "stdout",
          "text": [
            "[CV 1/5] END activation=tanh, alpha=0.001, hidden_layer_sizes=(100,), learning_rate=invscaling;, score=0.545 total time=   6.4s\n",
            "[CV 2/5] END activation=tanh, alpha=0.001, hidden_layer_sizes=(100,), learning_rate=invscaling;, score=0.545 total time=   4.6s\n"
          ]
        },
        {
          "output_type": "stream",
          "name": "stderr",
          "text": [
            "/usr/local/lib/python3.10/dist-packages/sklearn/neural_network/_multilayer_perceptron.py:686: ConvergenceWarning: Stochastic Optimizer: Maximum iterations (200) reached and the optimization hasn't converged yet.\n",
            "  warnings.warn(\n"
          ]
        },
        {
          "output_type": "stream",
          "name": "stdout",
          "text": [
            "[CV 3/5] END activation=tanh, alpha=0.001, hidden_layer_sizes=(100,), learning_rate=invscaling;, score=0.539 total time=   5.5s\n",
            "[CV 4/5] END activation=tanh, alpha=0.001, hidden_layer_sizes=(100,), learning_rate=invscaling;, score=0.517 total time=   6.0s\n",
            "[CV 5/5] END activation=tanh, alpha=0.001, hidden_layer_sizes=(100,), learning_rate=invscaling;, score=0.531 total time=   5.3s\n",
            "[CV 1/5] END activation=tanh, alpha=0.001, hidden_layer_sizes=(100,), learning_rate=adaptive;, score=0.544 total time=   5.8s\n"
          ]
        },
        {
          "output_type": "stream",
          "name": "stderr",
          "text": [
            "/usr/local/lib/python3.10/dist-packages/sklearn/neural_network/_multilayer_perceptron.py:686: ConvergenceWarning: Stochastic Optimizer: Maximum iterations (200) reached and the optimization hasn't converged yet.\n",
            "  warnings.warn(\n"
          ]
        },
        {
          "output_type": "stream",
          "name": "stdout",
          "text": [
            "[CV 2/5] END activation=tanh, alpha=0.001, hidden_layer_sizes=(100,), learning_rate=adaptive;, score=0.548 total time=   5.9s\n",
            "[CV 3/5] END activation=tanh, alpha=0.001, hidden_layer_sizes=(100,), learning_rate=adaptive;, score=0.517 total time=   4.3s\n"
          ]
        },
        {
          "output_type": "stream",
          "name": "stderr",
          "text": [
            "/usr/local/lib/python3.10/dist-packages/sklearn/neural_network/_multilayer_perceptron.py:686: ConvergenceWarning: Stochastic Optimizer: Maximum iterations (200) reached and the optimization hasn't converged yet.\n",
            "  warnings.warn(\n"
          ]
        },
        {
          "output_type": "stream",
          "name": "stdout",
          "text": [
            "[CV 4/5] END activation=tanh, alpha=0.001, hidden_layer_sizes=(100,), learning_rate=adaptive;, score=0.530 total time=   6.4s\n"
          ]
        },
        {
          "output_type": "stream",
          "name": "stderr",
          "text": [
            "/usr/local/lib/python3.10/dist-packages/sklearn/neural_network/_multilayer_perceptron.py:686: ConvergenceWarning: Stochastic Optimizer: Maximum iterations (200) reached and the optimization hasn't converged yet.\n",
            "  warnings.warn(\n"
          ]
        },
        {
          "output_type": "stream",
          "name": "stdout",
          "text": [
            "[CV 5/5] END activation=tanh, alpha=0.001, hidden_layer_sizes=(100,), learning_rate=adaptive;, score=0.504 total time=   5.5s\n"
          ]
        },
        {
          "output_type": "stream",
          "name": "stderr",
          "text": [
            "/usr/local/lib/python3.10/dist-packages/sklearn/neural_network/_multilayer_perceptron.py:686: ConvergenceWarning: Stochastic Optimizer: Maximum iterations (200) reached and the optimization hasn't converged yet.\n",
            "  warnings.warn(\n"
          ]
        },
        {
          "output_type": "stream",
          "name": "stdout",
          "text": [
            "[CV 1/5] END activation=tanh, alpha=0.001, hidden_layer_sizes=(50, 50), learning_rate=constant;, score=0.516 total time=  10.4s\n"
          ]
        },
        {
          "output_type": "stream",
          "name": "stderr",
          "text": [
            "/usr/local/lib/python3.10/dist-packages/sklearn/neural_network/_multilayer_perceptron.py:686: ConvergenceWarning: Stochastic Optimizer: Maximum iterations (200) reached and the optimization hasn't converged yet.\n",
            "  warnings.warn(\n"
          ]
        },
        {
          "output_type": "stream",
          "name": "stdout",
          "text": [
            "[CV 2/5] END activation=tanh, alpha=0.001, hidden_layer_sizes=(50, 50), learning_rate=constant;, score=0.557 total time=   7.8s\n",
            "[CV 3/5] END activation=tanh, alpha=0.001, hidden_layer_sizes=(50, 50), learning_rate=constant;, score=0.519 total time=   9.4s\n",
            "[CV 4/5] END activation=tanh, alpha=0.001, hidden_layer_sizes=(50, 50), learning_rate=constant;, score=0.495 total time=   9.3s\n",
            "[CV 5/5] END activation=tanh, alpha=0.001, hidden_layer_sizes=(50, 50), learning_rate=constant;, score=0.531 total time=   6.3s\n",
            "[CV 1/5] END activation=tanh, alpha=0.001, hidden_layer_sizes=(50, 50), learning_rate=invscaling;, score=0.523 total time=   9.6s\n",
            "[CV 2/5] END activation=tanh, alpha=0.001, hidden_layer_sizes=(50, 50), learning_rate=invscaling;, score=0.547 total time=   5.6s\n",
            "[CV 3/5] END activation=tanh, alpha=0.001, hidden_layer_sizes=(50, 50), learning_rate=invscaling;, score=0.519 total time=  10.4s\n",
            "[CV 4/5] END activation=tanh, alpha=0.001, hidden_layer_sizes=(50, 50), learning_rate=invscaling;, score=0.495 total time=   9.5s\n",
            "[CV 5/5] END activation=tanh, alpha=0.001, hidden_layer_sizes=(50, 50), learning_rate=invscaling;, score=0.514 total time=   8.0s\n",
            "[CV 1/5] END activation=tanh, alpha=0.001, hidden_layer_sizes=(50, 50), learning_rate=adaptive;, score=0.513 total time=   7.3s\n",
            "[CV 2/5] END activation=tanh, alpha=0.001, hidden_layer_sizes=(50, 50), learning_rate=adaptive;, score=0.563 total time=   9.5s\n",
            "[CV 3/5] END activation=tanh, alpha=0.001, hidden_layer_sizes=(50, 50), learning_rate=adaptive;, score=0.517 total time=   4.9s\n",
            "[CV 4/5] END activation=tanh, alpha=0.001, hidden_layer_sizes=(50, 50), learning_rate=adaptive;, score=0.515 total time=   9.3s\n",
            "[CV 5/5] END activation=tanh, alpha=0.001, hidden_layer_sizes=(50, 50), learning_rate=adaptive;, score=0.518 total time=   5.2s\n",
            "[CV 1/5] END activation=tanh, alpha=0.001, hidden_layer_sizes=(50, 100, 50), learning_rate=constant;, score=0.512 total time=   8.1s\n",
            "[CV 2/5] END activation=tanh, alpha=0.001, hidden_layer_sizes=(50, 100, 50), learning_rate=constant;, score=0.560 total time=  11.0s\n"
          ]
        },
        {
          "output_type": "stream",
          "name": "stderr",
          "text": [
            "/usr/local/lib/python3.10/dist-packages/sklearn/neural_network/_multilayer_perceptron.py:686: ConvergenceWarning: Stochastic Optimizer: Maximum iterations (200) reached and the optimization hasn't converged yet.\n",
            "  warnings.warn(\n"
          ]
        },
        {
          "output_type": "stream",
          "name": "stdout",
          "text": [
            "[CV 3/5] END activation=tanh, alpha=0.001, hidden_layer_sizes=(50, 100, 50), learning_rate=constant;, score=0.563 total time=  18.2s\n",
            "[CV 4/5] END activation=tanh, alpha=0.001, hidden_layer_sizes=(50, 100, 50), learning_rate=constant;, score=0.485 total time=   5.5s\n",
            "[CV 5/5] END activation=tanh, alpha=0.001, hidden_layer_sizes=(50, 100, 50), learning_rate=constant;, score=0.507 total time=  10.6s\n"
          ]
        },
        {
          "output_type": "stream",
          "name": "stderr",
          "text": [
            "/usr/local/lib/python3.10/dist-packages/sklearn/neural_network/_multilayer_perceptron.py:686: ConvergenceWarning: Stochastic Optimizer: Maximum iterations (200) reached and the optimization hasn't converged yet.\n",
            "  warnings.warn(\n"
          ]
        },
        {
          "output_type": "stream",
          "name": "stdout",
          "text": [
            "[CV 1/5] END activation=tanh, alpha=0.001, hidden_layer_sizes=(50, 100, 50), learning_rate=invscaling;, score=0.513 total time=  17.1s\n",
            "[CV 2/5] END activation=tanh, alpha=0.001, hidden_layer_sizes=(50, 100, 50), learning_rate=invscaling;, score=0.560 total time=  16.3s\n",
            "[CV 3/5] END activation=tanh, alpha=0.001, hidden_layer_sizes=(50, 100, 50), learning_rate=invscaling;, score=0.500 total time=  13.1s\n",
            "[CV 4/5] END activation=tanh, alpha=0.001, hidden_layer_sizes=(50, 100, 50), learning_rate=invscaling;, score=0.493 total time=   9.3s\n",
            "[CV 5/5] END activation=tanh, alpha=0.001, hidden_layer_sizes=(50, 100, 50), learning_rate=invscaling;, score=0.527 total time=  16.8s\n",
            "[CV 1/5] END activation=tanh, alpha=0.001, hidden_layer_sizes=(50, 100, 50), learning_rate=adaptive;, score=0.520 total time=  12.8s\n"
          ]
        },
        {
          "output_type": "stream",
          "name": "stderr",
          "text": [
            "/usr/local/lib/python3.10/dist-packages/sklearn/neural_network/_multilayer_perceptron.py:686: ConvergenceWarning: Stochastic Optimizer: Maximum iterations (200) reached and the optimization hasn't converged yet.\n",
            "  warnings.warn(\n"
          ]
        },
        {
          "output_type": "stream",
          "name": "stdout",
          "text": [
            "[CV 2/5] END activation=tanh, alpha=0.001, hidden_layer_sizes=(50, 100, 50), learning_rate=adaptive;, score=0.561 total time=  19.0s\n"
          ]
        },
        {
          "output_type": "stream",
          "name": "stderr",
          "text": [
            "/usr/local/lib/python3.10/dist-packages/sklearn/neural_network/_multilayer_perceptron.py:686: ConvergenceWarning: Stochastic Optimizer: Maximum iterations (200) reached and the optimization hasn't converged yet.\n",
            "  warnings.warn(\n"
          ]
        },
        {
          "output_type": "stream",
          "name": "stdout",
          "text": [
            "[CV 3/5] END activation=tanh, alpha=0.001, hidden_layer_sizes=(50, 100, 50), learning_rate=adaptive;, score=0.531 total time=  17.4s\n",
            "[CV 4/5] END activation=tanh, alpha=0.001, hidden_layer_sizes=(50, 100, 50), learning_rate=adaptive;, score=0.526 total time=   8.6s\n",
            "[CV 5/5] END activation=tanh, alpha=0.001, hidden_layer_sizes=(50, 100, 50), learning_rate=adaptive;, score=0.512 total time=  13.4s\n"
          ]
        },
        {
          "output_type": "stream",
          "name": "stderr",
          "text": [
            "/usr/local/lib/python3.10/dist-packages/sklearn/neural_network/_multilayer_perceptron.py:686: ConvergenceWarning: Stochastic Optimizer: Maximum iterations (200) reached and the optimization hasn't converged yet.\n",
            "  warnings.warn(\n"
          ]
        },
        {
          "output_type": "stream",
          "name": "stdout",
          "text": [
            "[CV 1/5] END activation=tanh, alpha=0.01, hidden_layer_sizes=(100,), learning_rate=constant;, score=0.517 total time=   6.4s\n"
          ]
        },
        {
          "output_type": "stream",
          "name": "stderr",
          "text": [
            "/usr/local/lib/python3.10/dist-packages/sklearn/neural_network/_multilayer_perceptron.py:686: ConvergenceWarning: Stochastic Optimizer: Maximum iterations (200) reached and the optimization hasn't converged yet.\n",
            "  warnings.warn(\n"
          ]
        },
        {
          "output_type": "stream",
          "name": "stdout",
          "text": [
            "[CV 2/5] END activation=tanh, alpha=0.01, hidden_layer_sizes=(100,), learning_rate=constant;, score=0.557 total time=   5.7s\n"
          ]
        },
        {
          "output_type": "stream",
          "name": "stderr",
          "text": [
            "/usr/local/lib/python3.10/dist-packages/sklearn/neural_network/_multilayer_perceptron.py:686: ConvergenceWarning: Stochastic Optimizer: Maximum iterations (200) reached and the optimization hasn't converged yet.\n",
            "  warnings.warn(\n"
          ]
        },
        {
          "output_type": "stream",
          "name": "stdout",
          "text": [
            "[CV 3/5] END activation=tanh, alpha=0.01, hidden_layer_sizes=(100,), learning_rate=constant;, score=0.539 total time=   6.7s\n"
          ]
        },
        {
          "output_type": "stream",
          "name": "stderr",
          "text": [
            "/usr/local/lib/python3.10/dist-packages/sklearn/neural_network/_multilayer_perceptron.py:686: ConvergenceWarning: Stochastic Optimizer: Maximum iterations (200) reached and the optimization hasn't converged yet.\n",
            "  warnings.warn(\n"
          ]
        },
        {
          "output_type": "stream",
          "name": "stdout",
          "text": [
            "[CV 4/5] END activation=tanh, alpha=0.01, hidden_layer_sizes=(100,), learning_rate=constant;, score=0.507 total time=   5.9s\n",
            "[CV 5/5] END activation=tanh, alpha=0.01, hidden_layer_sizes=(100,), learning_rate=constant;, score=0.521 total time=   4.5s\n"
          ]
        },
        {
          "output_type": "stream",
          "name": "stderr",
          "text": [
            "/usr/local/lib/python3.10/dist-packages/sklearn/neural_network/_multilayer_perceptron.py:686: ConvergenceWarning: Stochastic Optimizer: Maximum iterations (200) reached and the optimization hasn't converged yet.\n",
            "  warnings.warn(\n"
          ]
        },
        {
          "output_type": "stream",
          "name": "stdout",
          "text": [
            "[CV 1/5] END activation=tanh, alpha=0.01, hidden_layer_sizes=(100,), learning_rate=invscaling;, score=0.532 total time=   6.4s\n",
            "[CV 2/5] END activation=tanh, alpha=0.01, hidden_layer_sizes=(100,), learning_rate=invscaling;, score=0.536 total time=   5.4s\n"
          ]
        },
        {
          "output_type": "stream",
          "name": "stderr",
          "text": [
            "/usr/local/lib/python3.10/dist-packages/sklearn/neural_network/_multilayer_perceptron.py:686: ConvergenceWarning: Stochastic Optimizer: Maximum iterations (200) reached and the optimization hasn't converged yet.\n",
            "  warnings.warn(\n"
          ]
        },
        {
          "output_type": "stream",
          "name": "stdout",
          "text": [
            "[CV 3/5] END activation=tanh, alpha=0.01, hidden_layer_sizes=(100,), learning_rate=invscaling;, score=0.532 total time=   5.9s\n",
            "[CV 4/5] END activation=tanh, alpha=0.01, hidden_layer_sizes=(100,), learning_rate=invscaling;, score=0.486 total time=   4.6s\n"
          ]
        },
        {
          "output_type": "stream",
          "name": "stderr",
          "text": [
            "/usr/local/lib/python3.10/dist-packages/sklearn/neural_network/_multilayer_perceptron.py:686: ConvergenceWarning: Stochastic Optimizer: Maximum iterations (200) reached and the optimization hasn't converged yet.\n",
            "  warnings.warn(\n"
          ]
        },
        {
          "output_type": "stream",
          "name": "stdout",
          "text": [
            "[CV 5/5] END activation=tanh, alpha=0.01, hidden_layer_sizes=(100,), learning_rate=invscaling;, score=0.520 total time=   5.6s\n",
            "[CV 1/5] END activation=tanh, alpha=0.01, hidden_layer_sizes=(100,), learning_rate=adaptive;, score=0.510 total time=   5.7s\n",
            "[CV 2/5] END activation=tanh, alpha=0.01, hidden_layer_sizes=(100,), learning_rate=adaptive;, score=0.573 total time=   4.6s\n",
            "[CV 3/5] END activation=tanh, alpha=0.01, hidden_layer_sizes=(100,), learning_rate=adaptive;, score=0.503 total time=   3.1s\n",
            "[CV 4/5] END activation=tanh, alpha=0.01, hidden_layer_sizes=(100,), learning_rate=adaptive;, score=0.517 total time=   4.7s\n"
          ]
        },
        {
          "output_type": "stream",
          "name": "stderr",
          "text": [
            "/usr/local/lib/python3.10/dist-packages/sklearn/neural_network/_multilayer_perceptron.py:686: ConvergenceWarning: Stochastic Optimizer: Maximum iterations (200) reached and the optimization hasn't converged yet.\n",
            "  warnings.warn(\n"
          ]
        },
        {
          "output_type": "stream",
          "name": "stdout",
          "text": [
            "[CV 5/5] END activation=tanh, alpha=0.01, hidden_layer_sizes=(100,), learning_rate=adaptive;, score=0.505 total time=   6.4s\n",
            "[CV 1/5] END activation=tanh, alpha=0.01, hidden_layer_sizes=(50, 50), learning_rate=constant;, score=0.488 total time=   5.0s\n",
            "[CV 2/5] END activation=tanh, alpha=0.01, hidden_layer_sizes=(50, 50), learning_rate=constant;, score=0.557 total time=   9.8s\n",
            "[CV 3/5] END activation=tanh, alpha=0.01, hidden_layer_sizes=(50, 50), learning_rate=constant;, score=0.493 total time=   5.6s\n",
            "[CV 4/5] END activation=tanh, alpha=0.01, hidden_layer_sizes=(50, 50), learning_rate=constant;, score=0.523 total time=   7.2s\n",
            "[CV 5/5] END activation=tanh, alpha=0.01, hidden_layer_sizes=(50, 50), learning_rate=constant;, score=0.504 total time=   6.9s\n",
            "[CV 1/5] END activation=tanh, alpha=0.01, hidden_layer_sizes=(50, 50), learning_rate=invscaling;, score=0.512 total time=   8.6s\n",
            "[CV 2/5] END activation=tanh, alpha=0.01, hidden_layer_sizes=(50, 50), learning_rate=invscaling;, score=0.573 total time=   7.8s\n",
            "[CV 3/5] END activation=tanh, alpha=0.01, hidden_layer_sizes=(50, 50), learning_rate=invscaling;, score=0.516 total time=   7.3s\n",
            "[CV 4/5] END activation=tanh, alpha=0.01, hidden_layer_sizes=(50, 50), learning_rate=invscaling;, score=0.515 total time=   7.9s\n",
            "[CV 5/5] END activation=tanh, alpha=0.01, hidden_layer_sizes=(50, 50), learning_rate=invscaling;, score=0.512 total time=   8.2s\n",
            "[CV 1/5] END activation=tanh, alpha=0.01, hidden_layer_sizes=(50, 50), learning_rate=adaptive;, score=0.532 total time=   4.9s\n",
            "[CV 2/5] END activation=tanh, alpha=0.01, hidden_layer_sizes=(50, 50), learning_rate=adaptive;, score=0.564 total time=  10.6s\n"
          ]
        },
        {
          "output_type": "stream",
          "name": "stderr",
          "text": [
            "/usr/local/lib/python3.10/dist-packages/sklearn/neural_network/_multilayer_perceptron.py:686: ConvergenceWarning: Stochastic Optimizer: Maximum iterations (200) reached and the optimization hasn't converged yet.\n",
            "  warnings.warn(\n"
          ]
        },
        {
          "output_type": "stream",
          "name": "stdout",
          "text": [
            "[CV 3/5] END activation=tanh, alpha=0.01, hidden_layer_sizes=(50, 50), learning_rate=adaptive;, score=0.535 total time=   8.2s\n"
          ]
        },
        {
          "output_type": "stream",
          "name": "stderr",
          "text": [
            "/usr/local/lib/python3.10/dist-packages/sklearn/neural_network/_multilayer_perceptron.py:686: ConvergenceWarning: Stochastic Optimizer: Maximum iterations (200) reached and the optimization hasn't converged yet.\n",
            "  warnings.warn(\n"
          ]
        },
        {
          "output_type": "stream",
          "name": "stdout",
          "text": [
            "[CV 4/5] END activation=tanh, alpha=0.01, hidden_layer_sizes=(50, 50), learning_rate=adaptive;, score=0.512 total time=  10.2s\n",
            "[CV 5/5] END activation=tanh, alpha=0.01, hidden_layer_sizes=(50, 50), learning_rate=adaptive;, score=0.501 total time=   5.3s\n",
            "[CV 1/5] END activation=tanh, alpha=0.01, hidden_layer_sizes=(50, 100, 50), learning_rate=constant;, score=0.513 total time=  15.5s\n",
            "[CV 2/5] END activation=tanh, alpha=0.01, hidden_layer_sizes=(50, 100, 50), learning_rate=constant;, score=0.557 total time=  14.8s\n",
            "[CV 3/5] END activation=tanh, alpha=0.01, hidden_layer_sizes=(50, 100, 50), learning_rate=constant;, score=0.529 total time=  12.7s\n",
            "[CV 4/5] END activation=tanh, alpha=0.01, hidden_layer_sizes=(50, 100, 50), learning_rate=constant;, score=0.514 total time=  14.6s\n",
            "[CV 5/5] END activation=tanh, alpha=0.01, hidden_layer_sizes=(50, 100, 50), learning_rate=constant;, score=0.523 total time=  11.4s\n",
            "[CV 1/5] END activation=tanh, alpha=0.01, hidden_layer_sizes=(50, 100, 50), learning_rate=invscaling;, score=0.500 total time=  11.5s\n",
            "[CV 2/5] END activation=tanh, alpha=0.01, hidden_layer_sizes=(50, 100, 50), learning_rate=invscaling;, score=0.552 total time=  11.4s\n",
            "[CV 3/5] END activation=tanh, alpha=0.01, hidden_layer_sizes=(50, 100, 50), learning_rate=invscaling;, score=0.538 total time=  11.3s\n",
            "[CV 4/5] END activation=tanh, alpha=0.01, hidden_layer_sizes=(50, 100, 50), learning_rate=invscaling;, score=0.518 total time=   6.2s\n",
            "[CV 5/5] END activation=tanh, alpha=0.01, hidden_layer_sizes=(50, 100, 50), learning_rate=invscaling;, score=0.509 total time=  14.8s\n",
            "[CV 1/5] END activation=tanh, alpha=0.01, hidden_layer_sizes=(50, 100, 50), learning_rate=adaptive;, score=0.526 total time=   9.3s\n",
            "[CV 2/5] END activation=tanh, alpha=0.01, hidden_layer_sizes=(50, 100, 50), learning_rate=adaptive;, score=0.541 total time=   8.2s\n",
            "[CV 3/5] END activation=tanh, alpha=0.01, hidden_layer_sizes=(50, 100, 50), learning_rate=adaptive;, score=0.481 total time=   9.7s\n",
            "[CV 4/5] END activation=tanh, alpha=0.01, hidden_layer_sizes=(50, 100, 50), learning_rate=adaptive;, score=0.489 total time=  12.5s\n",
            "[CV 5/5] END activation=tanh, alpha=0.01, hidden_layer_sizes=(50, 100, 50), learning_rate=adaptive;, score=0.540 total time=  13.9s\n",
            "Best params for MLPClassifier: {'activation': 'tanh', 'alpha': 0.0001, 'hidden_layer_sizes': (100,), 'learning_rate': 'constant'}\n",
            "Hyparparameters for MLPClassifier: MLPClassifier(activation='tanh')\n",
            "Fitting 5 folds for each of 9 candidates, totalling 45 fits\n"
          ]
        },
        {
          "output_type": "stream",
          "name": "stderr",
          "text": [
            "/usr/local/lib/python3.10/dist-packages/sklearn/model_selection/_split.py:700: UserWarning: The least populated class in y has only 3 members, which is less than n_splits=5.\n",
            "  warnings.warn(\n"
          ]
        },
        {
          "output_type": "stream",
          "name": "stdout",
          "text": [
            "[CV 1/5] END ......max_depth=3, n_estimators=50;, score=0.592 total time=   3.0s\n",
            "[CV 2/5] END ......max_depth=3, n_estimators=50;, score=0.606 total time=   3.0s\n",
            "[CV 3/5] END ......max_depth=3, n_estimators=50;, score=0.599 total time=   2.3s\n",
            "[CV 4/5] END ......max_depth=3, n_estimators=50;, score=0.556 total time=   2.4s\n",
            "[CV 5/5] END ......max_depth=3, n_estimators=50;, score=0.559 total time=   2.4s\n",
            "[CV 1/5] END .....max_depth=3, n_estimators=100;, score=0.587 total time=   5.9s\n",
            "[CV 2/5] END .....max_depth=3, n_estimators=100;, score=0.612 total time=   6.3s\n",
            "[CV 3/5] END .....max_depth=3, n_estimators=100;, score=0.622 total time=   4.8s\n",
            "[CV 4/5] END .....max_depth=3, n_estimators=100;, score=0.572 total time=   5.9s\n",
            "[CV 5/5] END .....max_depth=3, n_estimators=100;, score=0.577 total time=   4.6s\n",
            "[CV 1/5] END .....max_depth=3, n_estimators=200;, score=0.599 total time=  10.2s\n",
            "[CV 2/5] END .....max_depth=3, n_estimators=200;, score=0.630 total time=   9.4s\n",
            "[CV 3/5] END .....max_depth=3, n_estimators=200;, score=0.627 total time=   9.7s\n",
            "[CV 4/5] END .....max_depth=3, n_estimators=200;, score=0.581 total time=  10.3s\n",
            "[CV 5/5] END .....max_depth=3, n_estimators=200;, score=0.584 total time=   9.6s\n",
            "[CV 1/5] END ......max_depth=5, n_estimators=50;, score=0.622 total time=   4.3s\n",
            "[CV 2/5] END ......max_depth=5, n_estimators=50;, score=0.636 total time=   3.7s\n",
            "[CV 3/5] END ......max_depth=5, n_estimators=50;, score=0.609 total time=   3.7s\n",
            "[CV 4/5] END ......max_depth=5, n_estimators=50;, score=0.609 total time=   5.0s\n",
            "[CV 5/5] END ......max_depth=5, n_estimators=50;, score=0.599 total time=   3.7s\n",
            "[CV 1/5] END .....max_depth=5, n_estimators=100;, score=0.638 total time=   7.9s\n",
            "[CV 2/5] END .....max_depth=5, n_estimators=100;, score=0.650 total time=   8.2s\n",
            "[CV 3/5] END .....max_depth=5, n_estimators=100;, score=0.647 total time=   8.6s\n",
            "[CV 4/5] END .....max_depth=5, n_estimators=100;, score=0.618 total time=   7.4s\n",
            "[CV 5/5] END .....max_depth=5, n_estimators=100;, score=0.615 total time=   8.7s\n",
            "[CV 1/5] END .....max_depth=5, n_estimators=200;, score=0.638 total time=  16.6s\n",
            "[CV 2/5] END .....max_depth=5, n_estimators=200;, score=0.633 total time=  15.2s\n",
            "[CV 3/5] END .....max_depth=5, n_estimators=200;, score=0.659 total time=  15.2s\n",
            "[CV 4/5] END .....max_depth=5, n_estimators=200;, score=0.612 total time=  15.4s\n",
            "[CV 5/5] END .....max_depth=5, n_estimators=200;, score=0.632 total time=  15.3s\n",
            "[CV 1/5] END ......max_depth=7, n_estimators=50;, score=0.634 total time=   6.6s\n",
            "[CV 2/5] END ......max_depth=7, n_estimators=50;, score=0.643 total time=   5.6s\n",
            "[CV 3/5] END ......max_depth=7, n_estimators=50;, score=0.637 total time=   5.6s\n",
            "[CV 4/5] END ......max_depth=7, n_estimators=50;, score=0.612 total time=   6.6s\n",
            "[CV 5/5] END ......max_depth=7, n_estimators=50;, score=0.631 total time=   5.4s\n",
            "[CV 1/5] END .....max_depth=7, n_estimators=100;, score=0.630 total time=  12.2s\n",
            "[CV 2/5] END .....max_depth=7, n_estimators=100;, score=0.633 total time=  13.6s\n",
            "[CV 3/5] END .....max_depth=7, n_estimators=100;, score=0.652 total time=  12.2s\n",
            "[CV 4/5] END .....max_depth=7, n_estimators=100;, score=0.615 total time=  12.3s\n",
            "[CV 5/5] END .....max_depth=7, n_estimators=100;, score=0.644 total time=  11.8s\n",
            "[CV 1/5] END .....max_depth=7, n_estimators=200;, score=0.627 total time=  21.7s\n",
            "[CV 2/5] END .....max_depth=7, n_estimators=200;, score=0.637 total time=  22.1s\n",
            "[CV 3/5] END .....max_depth=7, n_estimators=200;, score=0.647 total time=  21.4s\n",
            "[CV 4/5] END .....max_depth=7, n_estimators=200;, score=0.616 total time=  22.5s\n",
            "[CV 5/5] END .....max_depth=7, n_estimators=200;, score=0.641 total time=  22.7s\n",
            "Best params for GradientBoostingClassifier: {'max_depth': 5, 'n_estimators': 200}\n",
            "Hyparparameters for GradientBoostingClassifier: GradientBoostingClassifier(max_depth=5, n_estimators=200)\n"
          ]
        }
      ]
    },
    {
      "cell_type": "markdown",
      "source": [
        "Ok, our Grid Search returned us the best parameters for our three models. Let's test them out and compare to the baseline models. For that, we will run the baseline models once more, just so that we have the results closer to each other for comparison."
      ],
      "metadata": {
        "id": "OlcLnLI6H8TA"
      }
    },
    {
      "cell_type": "code",
      "source": [
        "for model in models:\n",
        "  pipe = Pipeline([('preprocess_pipe', preprocess_pipe), (f'{type(model).__name__}', model)])\n",
        "  pipe.fit(X_train, y_train)\n",
        "  y_pred = pipe.predict(X_test)\n",
        "  f1 = f1_score(y_test, y_pred, average='macro')\n",
        "  print(f'Model: {type(model).__name__}\\n', f'Pipe score: {pipe.score(X_test, y_test)}\\n', f'F1_Score: {f1}\\n')\n",
        "  print('=======================================')"
      ],
      "metadata": {
        "colab": {
          "base_uri": "https://localhost:8080/"
        },
        "id": "U7ywMFoyJNVO",
        "outputId": "39165019-6944-4e36-b845-ac8be7e2c310"
      },
      "execution_count": 57,
      "outputs": [
        {
          "output_type": "stream",
          "name": "stdout",
          "text": [
            "Model: SVC\n",
            " Pipe score: 0.5571428571428572\n",
            " F1_Score: 0.22785260156050754\n",
            "\n",
            "=======================================\n"
          ]
        },
        {
          "output_type": "stream",
          "name": "stderr",
          "text": [
            "/usr/local/lib/python3.10/dist-packages/sklearn/neural_network/_multilayer_perceptron.py:686: ConvergenceWarning: Stochastic Optimizer: Maximum iterations (200) reached and the optimization hasn't converged yet.\n",
            "  warnings.warn(\n"
          ]
        },
        {
          "output_type": "stream",
          "name": "stdout",
          "text": [
            "Model: MLPClassifier\n",
            " Pipe score: 0.5537414965986395\n",
            " F1_Score: 0.27207045479764225\n",
            "\n",
            "=======================================\n",
            "Model: GradientBoostingClassifier\n",
            " Pipe score: 0.5938775510204082\n",
            " F1_Score: 0.3461465277487159\n",
            "\n",
            "=======================================\n"
          ]
        }
      ]
    },
    {
      "cell_type": "markdown",
      "source": [
        "Now, let's remove the column \"density\", with less importance according to the feature selection process, and then apply the tunned hyperparameters."
      ],
      "metadata": {
        "id": "7mU2VUMCJb3b"
      }
    },
    {
      "cell_type": "code",
      "source": [
        "X = df_white.drop(columns=['quality', 'density'])\n",
        "y = df_white.quality\n",
        "\n",
        "X_train, X_test, y_train, y_test = train_test_split(X, y, train_size=0.7)"
      ],
      "metadata": {
        "id": "Bb8gK4qKJyAt"
      },
      "execution_count": 60,
      "outputs": []
    },
    {
      "cell_type": "code",
      "source": [
        "models_tuned = [\n",
        "    SVC(C=10, gamma=1)\n",
        "    ,MLPClassifier(activation='tanh')\n",
        "    ,GradientBoostingClassifier(max_depth=5, n_estimators=200)\n",
        "]\n",
        "\n",
        "for model_tuned in models_tuned:\n",
        "  pipe = Pipeline([('preprocess_pipe', preprocess_pipe), (f'{type(model_tuned).__name__}', model_tuned)])\n",
        "  pipe.fit(X_train, y_train)\n",
        "  y_pred = pipe.predict(X_test)\n",
        "  f1 = f1_score(y_test, y_pred, average='macro')\n",
        "  print(f'Model: {type(model_tuned).__name__}\\n', f'Pipe score: {pipe.score(X_test, y_test)}\\n', f'F1_Score: {f1}\\n')\n",
        "  print('=======================================')"
      ],
      "metadata": {
        "colab": {
          "base_uri": "https://localhost:8080/"
        },
        "id": "VoUi5oZS5d5P",
        "outputId": "5a74d613-a759-41d0-e3e7-f4f3ebb615ec"
      },
      "execution_count": 61,
      "outputs": [
        {
          "output_type": "stream",
          "name": "stdout",
          "text": [
            "Model: SVC\n",
            " Pipe score: 0.6496598639455783\n",
            " F1_Score: 0.38494910994433607\n",
            "\n",
            "=======================================\n"
          ]
        },
        {
          "output_type": "stream",
          "name": "stderr",
          "text": [
            "/usr/local/lib/python3.10/dist-packages/sklearn/neural_network/_multilayer_perceptron.py:686: ConvergenceWarning: Stochastic Optimizer: Maximum iterations (200) reached and the optimization hasn't converged yet.\n",
            "  warnings.warn(\n"
          ]
        },
        {
          "output_type": "stream",
          "name": "stdout",
          "text": [
            "Model: MLPClassifier\n",
            " Pipe score: 0.5693877551020409\n",
            " F1_Score: 0.26198554825683473\n",
            "\n",
            "=======================================\n",
            "Model: GradientBoostingClassifier\n",
            " Pipe score: 0.6571428571428571\n",
            " F1_Score: 0.4354700880768047\n",
            "\n",
            "=======================================\n"
          ]
        }
      ]
    },
    {
      "cell_type": "markdown",
      "source": [
        "The best model is GradientBoostingClassifier after performing some hyperparameter tuning and feature selection. Now, the model can be saved and deployed. Of course, it is possible to perform much more experiments with this data and other ML models, but for now that concludes our study."
      ],
      "metadata": {
        "id": "uogQiiZBKRnl"
      }
    },
    {
      "cell_type": "code",
      "source": [],
      "metadata": {
        "id": "3MImLU19Iohu"
      },
      "execution_count": null,
      "outputs": []
    }
  ]
}